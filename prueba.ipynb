{
  "nbformat": 4,
  "nbformat_minor": 0,
  "metadata": {
    "colab": {
      "name": "prueba.ipynb",
      "provenance": [],
      "collapsed_sections": []
    },
    "kernelspec": {
      "name": "python3",
      "display_name": "Python 3"
    },
    "language_info": {
      "name": "python"
    }
  },
  "cells": [
    {
      "cell_type": "markdown",
      "metadata": {
        "id": "_QcYI6rNbmH1"
      },
      "source": [
        "### **Importar Librerias**"
      ]
    },
    {
      "cell_type": "code",
      "metadata": {
        "id": "8MGmsKihRxC4"
      },
      "source": [
        "import numpy as np\n",
        "import socket\n",
        "from socket import socket\n",
        "import os\n",
        "import re\n",
        "import matplotlib.pyplot as plt\n",
        "%matplotlib inline\n",
        "from sklearn.model_selection import train_test_split\n",
        "from sklearn.metrics import classification_report"
      ],
      "execution_count": null,
      "outputs": []
    },
    {
      "cell_type": "code",
      "metadata": {
        "id": "GHE2_m9XSIlL"
      },
      "source": [
        "import keras\n",
        "from tensorflow.keras.utils import to_categorical\n",
        "from keras.models import Sequential,Input,Model\n",
        "from keras.layers import Dense, Dropout, Flatten\n",
        "from keras.layers import Conv2D, MaxPooling2D\n",
        "from tensorflow.keras.models import Sequential\n",
        "from keras.layers.advanced_activations import LeakyReLU"
      ],
      "execution_count": null,
      "outputs": []
    },
    {
      "cell_type": "markdown",
      "metadata": {
        "id": "iy3hP2FCbtRg"
      },
      "source": [
        "## **Cargar set de Imágenes**"
      ]
    },
    {
      "cell_type": "code",
      "metadata": {
        "colab": {
          "base_uri": "https://localhost:8080/"
        },
        "id": "Ps_C0cbVSsm8",
        "outputId": "a0632584-bfaf-499b-9734-b74f986ce13b"
      },
      "source": [
        "dirname = os.path.join(os.getcwd(), '/content/drive/MyDrive/Imagenes/IA - SPACE APP/')\n",
        "imgpath = dirname + os.sep \n",
        "\n",
        "images = []\n",
        "directories = []\n",
        "dircount = []\n",
        "prevRoot=''\n",
        "cant=0\n",
        "\n",
        "print(\"leyendo imagenes de \",imgpath)\n",
        "\n",
        "for root, dirnames, filenames in os.walk(imgpath):\n",
        "    for filename in filenames:\n",
        "        if re.search(\"\\.(jpg|jpeg|png|bmp|tiff)$\", filename):\n",
        "            cant=cant+1\n",
        "            filepath = os.path.join(root, filename)\n",
        "            image = plt.imread(filepath)\n",
        "            images.append(image)\n",
        "            b = \"Leyendo...\" + str(cant)\n",
        "            print (b, end=\"\\r\")\n",
        "            if prevRoot !=root:\n",
        "                print(root, cant)\n",
        "                prevRoot=root\n",
        "                directories.append(root)\n",
        "                dircount.append(cant)\n",
        "                cant=0\n",
        "dircount.append(cant)\n",
        "if len(dircount) > 1:\n",
        "    dircount = dircount[1:]\n",
        "    dircount[0] = dircount[0] + 1\n",
        "print('Directorios leidos:',len(directories))\n",
        "print(\"Imagenes en cada directorio\", dircount)\n",
        "print('suma Total de imagenes en subdirs:',sum(dircount))"
      ],
      "execution_count": null,
      "outputs": [
        {
          "output_type": "stream",
          "name": "stdout",
          "text": [
            "leyendo imagenes de  /content/drive/MyDrive/Imagenes/IA - SPACE APP//\n",
            "Leyendo...1\r/content/drive/MyDrive/Imagenes/IA - SPACE APP//Bolsa Plastico 1\n",
            "/content/drive/MyDrive/Imagenes/IA - SPACE APP//Cubierto 6\n",
            "/content/drive/MyDrive/Imagenes/IA - SPACE APP//Red de pesca 10\n",
            "/content/drive/MyDrive/Imagenes/IA - SPACE APP//Lata 7\n",
            "/content/drive/MyDrive/Imagenes/IA - SPACE APP//Llanta 5\n",
            "/content/drive/MyDrive/Imagenes/IA - SPACE APP//Anzuelo 5\n",
            "/content/drive/MyDrive/Imagenes/IA - SPACE APP//Tapa de botella 6\n",
            "/content/drive/MyDrive/Imagenes/IA - SPACE APP//Anillo de cerveza 7\n",
            "/content/drive/MyDrive/Imagenes/IA - SPACE APP//Vaso Plastico 1\n",
            "/content/drive/MyDrive/Imagenes/IA - SPACE APP//Botella 5\n",
            "/content/drive/MyDrive/Imagenes/IA - SPACE APP//Hisopo 13\n",
            "/content/drive/MyDrive/Imagenes/IA - SPACE APP//Mascarilla 4\n",
            "Directorios leidos: 12\n",
            "Imagenes en cada directorio [7, 10, 7, 5, 5, 6, 7, 1, 5, 13, 4, 4]\n",
            "suma Total de imagenes en subdirs: 74\n"
          ]
        }
      ]
    },
    {
      "cell_type": "markdown",
      "metadata": {
        "id": "qpyHj330cGf2"
      },
      "source": [
        "# **Creamos las etiquetas**"
      ]
    },
    {
      "cell_type": "code",
      "metadata": {
        "colab": {
          "base_uri": "https://localhost:8080/"
        },
        "id": "y6S8s1Cy2JiK",
        "outputId": "73b7aae9-e066-4a62-ec55-85a46373f52b"
      },
      "source": [
        "labels=[]\n",
        "indice=0\n",
        "for cantidad in dircount:\n",
        "    for i in range(cantidad):\n",
        "        labels.append(indice)\n",
        "    indice=indice+1\n",
        "print(\"Cantidad etiquetas creadas: \",len(labels))\n"
      ],
      "execution_count": null,
      "outputs": [
        {
          "output_type": "stream",
          "name": "stdout",
          "text": [
            "Cantidad etiquetas creadas:  74\n"
          ]
        }
      ]
    },
    {
      "cell_type": "code",
      "metadata": {
        "colab": {
          "base_uri": "https://localhost:8080/"
        },
        "id": "NYSbeP6eqOlR",
        "outputId": "15e75f39-d0df-4ca2-ae87-bb703207a2c1"
      },
      "source": [
        "from google.colab import drive\n",
        "drive.mount('/content/drive')"
      ],
      "execution_count": null,
      "outputs": [
        {
          "output_type": "stream",
          "name": "stdout",
          "text": [
            "Drive already mounted at /content/drive; to attempt to forcibly remount, call drive.mount(\"/content/drive\", force_remount=True).\n"
          ]
        }
      ]
    },
    {
      "cell_type": "code",
      "metadata": {
        "id": "MT8ns6BU2UnF",
        "colab": {
          "base_uri": "https://localhost:8080/"
        },
        "outputId": "be1ea361-b50f-4a8b-f760-58a273d3e7f6"
      },
      "source": [
        "imagenes=[]\n",
        "indice=0\n",
        "for directorio in directories:\n",
        "    name = directorio.split(os.sep)\n",
        "    print(indice , name[len(name)-1])\n",
        "    imagenes.append(name[len(name)-1])\n",
        "    indice=indice+1\n",
        "\n"
      ],
      "execution_count": null,
      "outputs": [
        {
          "output_type": "stream",
          "name": "stdout",
          "text": [
            "0 Bolsa Plastico\n",
            "1 Cubierto\n",
            "2 Red de pesca\n",
            "3 Lata\n",
            "4 Llanta\n",
            "5 Anzuelo\n",
            "6 Tapa de botella\n",
            "7 Anillo de cerveza\n",
            "8 Vaso Plastico\n",
            "9 Botella\n",
            "10 Hisopo\n",
            "11 Mascarilla\n"
          ]
        }
      ]
    },
    {
      "cell_type": "code",
      "metadata": {
        "colab": {
          "base_uri": "https://localhost:8080/"
        },
        "id": "77jlqGyG2fM8",
        "outputId": "4aa69781-f6f4-4a24-c70a-bc1ed55a2f9a"
      },
      "source": [
        "y = np.array(labels)\n",
        "X = np.array(images, dtype=object) #convierto de lista a numpy\n",
        "\n",
        "# Find the unique numbers from the train labels\n",
        "classes = np.unique(y)\n",
        "nClasses = len(classes)\n",
        "print('Total number of outputs : ', nClasses)\n",
        "print('Output classes : ', classes)"
      ],
      "execution_count": null,
      "outputs": [
        {
          "output_type": "stream",
          "name": "stdout",
          "text": [
            "Total number of outputs :  12\n",
            "Output classes :  [ 0  1  2  3  4  5  6  7  8  9 10 11]\n"
          ]
        }
      ]
    },
    {
      "cell_type": "markdown",
      "metadata": {
        "id": "B3leBaabcM4h"
      },
      "source": [
        "# Creamos Sets de Entrenamiento y Test"
      ]
    },
    {
      "cell_type": "code",
      "metadata": {
        "id": "AZcvMv4rZGIz",
        "colab": {
          "base_uri": "https://localhost:8080/"
        },
        "outputId": "18765610-2b99-491a-f786-9aaa271796e8"
      },
      "source": [
        "train_X,test_X,train_Y,test_Y = train_test_split(X,y,test_size=0.2)\n",
        "print('Training data shape : ', train_X.shape, train_Y.shape)\n",
        "print('Testing data shape : ', test_X.shape, test_Y.shape)\n",
        "train_X.shape\n",
        "train_Y.shape\n",
        "train_X.ndim\n",
        "train_Y.ndim\n"
      ],
      "execution_count": null,
      "outputs": [
        {
          "output_type": "stream",
          "name": "stdout",
          "text": [
            "Training data shape :  (59,) (59,)\n",
            "Testing data shape :  (15,) (15,)\n"
          ]
        },
        {
          "output_type": "execute_result",
          "data": {
            "text/plain": [
              "1"
            ]
          },
          "metadata": {},
          "execution_count": 137
        }
      ]
    },
    {
      "cell_type": "code",
      "metadata": {
        "id": "f73Ar1oAZL-f",
        "colab": {
          "base_uri": "https://localhost:8080/",
          "height": 209
        },
        "outputId": "a0c1a344-eb61-4682-fe46-b5294f4e0685"
      },
      "source": [
        "train_X.shape\n",
        "train_Y.shape\n",
        "plt.figure(figsize=[5,5])\n",
        "\n",
        "# Display the first image in training data\n",
        "plt.subplot(121)\n",
        "plt.imshow(train_X[0], cmap='gray')\n",
        "plt.title(\"Ground Truth : {}\".format(train_Y[0]))\n",
        "\n",
        "# Display the first image in testing data\n",
        "plt.subplot(122)\n",
        "plt.imshow(test_X[0], cmap='gray')\n",
        "plt.title(\"Ground Truth : {}\".format(test_Y[0]))"
      ],
      "execution_count": null,
      "outputs": [
        {
          "output_type": "execute_result",
          "data": {
            "text/plain": [
              "Text(0.5, 1.0, 'Ground Truth : 5')"
            ]
          },
          "metadata": {},
          "execution_count": 138
        },
        {
          "output_type": "display_data",
          "data": {
            "image/png": "[encoded data removed]",
            "text/plain": [
              "<Figure size 360x360 with 2 Axes>"
            ]
          },
          "metadata": {
            "needs_background": "light"
          }
        }
      ]
    },
    {
      "cell_type": "markdown",
      "metadata": {
        "id": "D1fE90NwcbIF"
      },
      "source": [
        "# Preprocesamos las imagenes"
      ]
    },
    {
      "cell_type": "code",
      "metadata": {
        "id": "GfmnLz1eZRx1"
      },
      "source": [
        "from keras.datasets import mnist\n",
        "from keras.layers import Dense\n",
        "from keras.models import Sequential\n",
        "(train_x, train_y) , (test_x, test_y) = mnist.load_data()\n",
        "#train_x = train_x.astype('float32') / 255\n",
        "#test_x = test_x.astype('float32') / 255\n"
      ],
      "execution_count": null,
      "outputs": []
    },
    {
      "cell_type": "markdown",
      "metadata": {
        "id": "pMheTW83cgD3"
      },
      "source": [
        "# Hacemos el One-hot Encoding para la red"
      ]
    },
    {
      "cell_type": "code",
      "metadata": {
        "id": "Ms5B7JcuZUbn",
        "colab": {
          "base_uri": "https://localhost:8080/"
        },
        "outputId": "f4a3ab95-5581-44a7-c15a-285bc30c8700"
      },
      "source": [
        "# Change the labels from categorical to one-hot encoding\n",
        "train_Y_one_hot = to_categorical(train_Y)\n",
        "test_Y_one_hot = to_categorical(test_Y)\n",
        "\n",
        "# Display the change for category label using one-hot encoding\n",
        "print('Original label:', train_Y[0])\n",
        "print('After conversion to one-hot:', train_Y_one_hot[0])\n"
      ],
      "execution_count": null,
      "outputs": [
        {
          "output_type": "stream",
          "name": "stdout",
          "text": [
            "Original label: 0\n",
            "After conversion to one-hot: [1. 0. 0. 0. 0. 0. 0. 0. 0. 0. 0. 0.]\n"
          ]
        }
      ]
    },
    {
      "cell_type": "markdown",
      "metadata": {
        "id": "cN69S7jMdDLN"
      },
      "source": [
        "\n",
        "# Creamos el Set de Entrenamiento y Validación"
      ]
    },
    {
      "cell_type": "code",
      "metadata": {
        "id": "g82RC4wFZXJk"
      },
      "source": [
        "#Mezclar todo y crear los grupos de entrenamiento y testing\n",
        "train_X,valid_X,train_label,valid_label = train_test_split(train_X, train_Y_one_hot, test_size=0.2, random_state=13)"
      ],
      "execution_count": null,
      "outputs": []
    },
    {
      "cell_type": "code",
      "metadata": {
        "id": "svB20oiHZ3Wa",
        "colab": {
          "base_uri": "https://localhost:8080/"
        },
        "outputId": "a599b69b-ff7d-4517-d352-0c0b0ab842b7"
      },
      "source": [
        "print(train_X.shape,valid_X.shape,train_label.shape,valid_label.shape)"
      ],
      "execution_count": null,
      "outputs": [
        {
          "output_type": "stream",
          "name": "stdout",
          "text": [
            "(47,) (12,) (47, 12) (12, 12)\n"
          ]
        }
      ]
    },
    {
      "cell_type": "markdown",
      "metadata": {
        "id": "EmvXTSqmdX-_"
      },
      "source": [
        "# Creamos el modelo de CNN"
      ]
    },
    {
      "cell_type": "markdown",
      "metadata": {
        "id": "6Z5gG4xIZqyE"
      },
      "source": [
        "#declaramos variables con los parámetros de configuración de la red\n",
        "INIT_LR = 1e-3 # Valor inicial de learning rate. El valor 1e-3 corresponde con 0.001\n",
        "epochs = 6 # Cantidad de iteraciones completas al conjunto de imagenes de entrenamiento\n",
        "batch_size = 64 # cantidad de imágenes que se toman a la vez en memoria\n"
      ]
    },
    {
      "cell_type": "code",
      "metadata": {
        "id": "Wrga1znJZ6q6"
      },
      "source": [
        "sport_model = Sequential()\n",
        "sport_model.add(Conv2D(32, kernel_size=(3, 3),activation='linear',padding='same',input_shape=(21,28,3)))\n",
        "sport_model.add(LeakyReLU(alpha=0.1))\n",
        "sport_model.add(MaxPooling2D((2, 2),padding='same'))\n",
        "sport_model.add(Dropout(0.5))\n",
        "\n",
        "sport_model.add(Flatten())\n",
        "sport_model.add(Dense(32, activation='linear'))\n",
        "sport_model.add(LeakyReLU(alpha=0.1))\n",
        "sport_model.add(Dropout(0.5))\n",
        "sport_model.add(Dense(nClasses, activation='softmax'))"
      ],
      "execution_count": null,
      "outputs": []
    },
    {
      "cell_type": "code",
      "metadata": {
        "id": "Qhc2AqTjZ8uQ",
        "colab": {
          "base_uri": "https://localhost:8080/"
        },
        "outputId": "c0003e0e-5b4e-4d6d-bae6-ff290971262b"
      },
      "source": [
        "sport_model.summary()"
      ],
      "execution_count": null,
      "outputs": [
        {
          "output_type": "stream",
          "name": "stdout",
          "text": [
            "Model: \"sequential_4\"\n",
            "_________________________________________________________________\n",
            "Layer (type)                 Output Shape              Param #   \n",
            "=================================================================\n",
            "conv2d_4 (Conv2D)            (None, 21, 28, 32)        896       \n",
            "_________________________________________________________________\n",
            "leaky_re_lu_8 (LeakyReLU)    (None, 21, 28, 32)        0         \n",
            "_________________________________________________________________\n",
            "max_pooling2d_4 (MaxPooling2 (None, 11, 14, 32)        0         \n",
            "_________________________________________________________________\n",
            "dropout_8 (Dropout)          (None, 11, 14, 32)        0         \n",
            "_________________________________________________________________\n",
            "flatten_4 (Flatten)          (None, 4928)              0         \n",
            "_________________________________________________________________\n",
            "dense_8 (Dense)              (None, 32)                157728    \n",
            "_________________________________________________________________\n",
            "leaky_re_lu_9 (LeakyReLU)    (None, 32)                0         \n",
            "_________________________________________________________________\n",
            "dropout_9 (Dropout)          (None, 32)                0         \n",
            "_________________________________________________________________\n",
            "dense_9 (Dense)              (None, 12)                396       \n",
            "=================================================================\n",
            "Total params: 159,020\n",
            "Trainable params: 159,020\n",
            "Non-trainable params: 0\n",
            "_________________________________________________________________\n"
          ]
        }
      ]
    },
    {
      "cell_type": "code",
      "metadata": {
        "id": "pO3NOJMaZ_7c"
      },
      "source": [
        "import tensorflow as tf\n",
        "from tensorflow.keras.optimizers import Adam\n",
        "\n",
        "sport_model.compile(loss=keras.losses.categorical_crossentropy, optimizer=tf.keras.optimizers.Adam(1e-3 , decay=1e-3  / 100),metrics=['accuracy'])"
      ],
      "execution_count": null,
      "outputs": []
    },
    {
      "cell_type": "code",
      "metadata": {
        "id": "3WYFyV84jkyC",
        "colab": {
          "base_uri": "https://localhost:8080/"
        },
        "outputId": "ba5f1643-66b1-42ab-9af4-627786590e72"
      },
      "source": [
        "sport_model.save(\"sports_mnist.h5py\")"
      ],
      "execution_count": null,
      "outputs": [
        {
          "output_type": "stream",
          "name": "stdout",
          "text": [
            "INFO:tensorflow:Assets written to: sports_mnist.h5py/assets\n"
          ]
        }
      ]
    },
    {
      "cell_type": "markdown",
      "metadata": {
        "id": "1yRYYUOKaDM0"
      },
      "source": [
        "# **Entrenamos el modelo: Aprende a clasificar imágenes**"
      ]
    },
    {
      "cell_type": "code",
      "metadata": {
        "id": "fPqDo9DZaFeo",
        "colab": {
          "base_uri": "https://localhost:8080/",
          "height": 357
        },
        "outputId": "19291057-0fa1-4694-a01b-35bc9054589e"
      },
      "source": [
        "from keras import Sequential\n",
        "from keras.layers import Dense, Dropout, Flatten\n",
        "from sklearn.model_selection import train_test_split\n",
        "sport_train_dropout = sport_model.fit(train_X, train_label, batch_size=64,epochs=6,verbose=1,validation_data=(valid_X, valid_label))"
      ],
      "execution_count": null,
      "outputs": [
        {
          "output_type": "error",
          "ename": "ValueError",
          "evalue": "ignored",
          "traceback": [
            "\u001b[0;31m---------------------------------------------------------------------------\u001b[0m",
            "\u001b[0;31mValueError\u001b[0m                                Traceback (most recent call last)",
            "\u001b[0;32m<ipython-input-162-63be84406833>\u001b[0m in \u001b[0;36m<module>\u001b[0;34m()\u001b[0m\n\u001b[1;32m      2\u001b[0m \u001b[0;32mfrom\u001b[0m \u001b[0mkeras\u001b[0m\u001b[0;34m.\u001b[0m\u001b[0mlayers\u001b[0m \u001b[0;32mimport\u001b[0m \u001b[0mDense\u001b[0m\u001b[0;34m,\u001b[0m \u001b[0mDropout\u001b[0m\u001b[0;34m,\u001b[0m \u001b[0mFlatten\u001b[0m\u001b[0;34m\u001b[0m\u001b[0;34m\u001b[0m\u001b[0m\n\u001b[1;32m      3\u001b[0m \u001b[0;32mfrom\u001b[0m \u001b[0msklearn\u001b[0m\u001b[0;34m.\u001b[0m\u001b[0mmodel_selection\u001b[0m \u001b[0;32mimport\u001b[0m \u001b[0mtrain_test_split\u001b[0m\u001b[0;34m\u001b[0m\u001b[0;34m\u001b[0m\u001b[0m\n\u001b[0;32m----> 4\u001b[0;31m \u001b[0msport_train_dropout\u001b[0m \u001b[0;34m=\u001b[0m \u001b[0msport_model\u001b[0m\u001b[0;34m.\u001b[0m\u001b[0mfit\u001b[0m\u001b[0;34m(\u001b[0m\u001b[0mtrain_X\u001b[0m\u001b[0;34m,\u001b[0m \u001b[0mtrain_label\u001b[0m\u001b[0;34m,\u001b[0m \u001b[0mbatch_size\u001b[0m\u001b[0;34m=\u001b[0m\u001b[0;36m64\u001b[0m\u001b[0;34m,\u001b[0m\u001b[0mepochs\u001b[0m\u001b[0;34m=\u001b[0m\u001b[0;36m6\u001b[0m\u001b[0;34m,\u001b[0m\u001b[0mverbose\u001b[0m\u001b[0;34m=\u001b[0m\u001b[0;36m1\u001b[0m\u001b[0;34m,\u001b[0m\u001b[0mvalidation_data\u001b[0m\u001b[0;34m=\u001b[0m\u001b[0;34m(\u001b[0m\u001b[0mvalid_X\u001b[0m\u001b[0;34m,\u001b[0m \u001b[0mvalid_label\u001b[0m\u001b[0;34m)\u001b[0m\u001b[0;34m)\u001b[0m\u001b[0;34m\u001b[0m\u001b[0;34m\u001b[0m\u001b[0m\n\u001b[0m",
            "\u001b[0;32m/usr/local/lib/python3.7/dist-packages/keras/engine/training.py\u001b[0m in \u001b[0;36mfit\u001b[0;34m(self, x, y, batch_size, epochs, verbose, callbacks, validation_split, validation_data, shuffle, class_weight, sample_weight, initial_epoch, steps_per_epoch, validation_steps, validation_batch_size, validation_freq, max_queue_size, workers, use_multiprocessing)\u001b[0m\n\u001b[1;32m   1146\u001b[0m           \u001b[0muse_multiprocessing\u001b[0m\u001b[0;34m=\u001b[0m\u001b[0muse_multiprocessing\u001b[0m\u001b[0;34m,\u001b[0m\u001b[0;34m\u001b[0m\u001b[0;34m\u001b[0m\u001b[0m\n\u001b[1;32m   1147\u001b[0m           \u001b[0mmodel\u001b[0m\u001b[0;34m=\u001b[0m\u001b[0mself\u001b[0m\u001b[0;34m,\u001b[0m\u001b[0;34m\u001b[0m\u001b[0;34m\u001b[0m\u001b[0m\n\u001b[0;32m-> 1148\u001b[0;31m           steps_per_execution=self._steps_per_execution)\n\u001b[0m\u001b[1;32m   1149\u001b[0m \u001b[0;34m\u001b[0m\u001b[0m\n\u001b[1;32m   1150\u001b[0m       \u001b[0;31m# Container that configures and calls `tf.keras.Callback`s.\u001b[0m\u001b[0;34m\u001b[0m\u001b[0;34m\u001b[0m\u001b[0;34m\u001b[0m\u001b[0m\n",
            "\u001b[0;32m/usr/local/lib/python3.7/dist-packages/keras/engine/data_adapter.py\u001b[0m in \u001b[0;36mget_data_handler\u001b[0;34m(*args, **kwargs)\u001b[0m\n\u001b[1;32m   1381\u001b[0m   \u001b[0;32mif\u001b[0m \u001b[0mgetattr\u001b[0m\u001b[0;34m(\u001b[0m\u001b[0mkwargs\u001b[0m\u001b[0;34m[\u001b[0m\u001b[0;34m\"model\"\u001b[0m\u001b[0;34m]\u001b[0m\u001b[0;34m,\u001b[0m \u001b[0;34m\"_cluster_coordinator\"\u001b[0m\u001b[0;34m,\u001b[0m \u001b[0;32mNone\u001b[0m\u001b[0;34m)\u001b[0m\u001b[0;34m:\u001b[0m\u001b[0;34m\u001b[0m\u001b[0;34m\u001b[0m\u001b[0m\n\u001b[1;32m   1382\u001b[0m     \u001b[0;32mreturn\u001b[0m \u001b[0m_ClusterCoordinatorDataHandler\u001b[0m\u001b[0;34m(\u001b[0m\u001b[0;34m*\u001b[0m\u001b[0margs\u001b[0m\u001b[0;34m,\u001b[0m \u001b[0;34m**\u001b[0m\u001b[0mkwargs\u001b[0m\u001b[0;34m)\u001b[0m\u001b[0;34m\u001b[0m\u001b[0;34m\u001b[0m\u001b[0m\n\u001b[0;32m-> 1383\u001b[0;31m   \u001b[0;32mreturn\u001b[0m \u001b[0mDataHandler\u001b[0m\u001b[0;34m(\u001b[0m\u001b[0;34m*\u001b[0m\u001b[0margs\u001b[0m\u001b[0;34m,\u001b[0m \u001b[0;34m**\u001b[0m\u001b[0mkwargs\u001b[0m\u001b[0;34m)\u001b[0m\u001b[0;34m\u001b[0m\u001b[0;34m\u001b[0m\u001b[0m\n\u001b[0m\u001b[1;32m   1384\u001b[0m \u001b[0;34m\u001b[0m\u001b[0m\n\u001b[1;32m   1385\u001b[0m \u001b[0;34m\u001b[0m\u001b[0m\n",
            "\u001b[0;32m/usr/local/lib/python3.7/dist-packages/keras/engine/data_adapter.py\u001b[0m in \u001b[0;36m__init__\u001b[0;34m(self, x, y, sample_weight, batch_size, steps_per_epoch, initial_epoch, epochs, shuffle, class_weight, max_queue_size, workers, use_multiprocessing, model, steps_per_execution, distribute)\u001b[0m\n\u001b[1;32m   1148\u001b[0m         \u001b[0muse_multiprocessing\u001b[0m\u001b[0;34m=\u001b[0m\u001b[0muse_multiprocessing\u001b[0m\u001b[0;34m,\u001b[0m\u001b[0;34m\u001b[0m\u001b[0;34m\u001b[0m\u001b[0m\n\u001b[1;32m   1149\u001b[0m         \u001b[0mdistribution_strategy\u001b[0m\u001b[0;34m=\u001b[0m\u001b[0mtf\u001b[0m\u001b[0;34m.\u001b[0m\u001b[0mdistribute\u001b[0m\u001b[0;34m.\u001b[0m\u001b[0mget_strategy\u001b[0m\u001b[0;34m(\u001b[0m\u001b[0;34m)\u001b[0m\u001b[0;34m,\u001b[0m\u001b[0;34m\u001b[0m\u001b[0;34m\u001b[0m\u001b[0m\n\u001b[0;32m-> 1150\u001b[0;31m         model=model)\n\u001b[0m\u001b[1;32m   1151\u001b[0m \u001b[0;34m\u001b[0m\u001b[0m\n\u001b[1;32m   1152\u001b[0m     \u001b[0mstrategy\u001b[0m \u001b[0;34m=\u001b[0m \u001b[0mtf\u001b[0m\u001b[0;34m.\u001b[0m\u001b[0mdistribute\u001b[0m\u001b[0;34m.\u001b[0m\u001b[0mget_strategy\u001b[0m\u001b[0;34m(\u001b[0m\u001b[0;34m)\u001b[0m\u001b[0;34m\u001b[0m\u001b[0;34m\u001b[0m\u001b[0m\n",
            "\u001b[0;32m/usr/local/lib/python3.7/dist-packages/keras/engine/data_adapter.py\u001b[0m in \u001b[0;36m__init__\u001b[0;34m(self, x, y, sample_weights, sample_weight_modes, batch_size, epochs, steps, shuffle, **kwargs)\u001b[0m\n\u001b[1;32m    228\u001b[0m                **kwargs):\n\u001b[1;32m    229\u001b[0m     \u001b[0msuper\u001b[0m\u001b[0;34m(\u001b[0m\u001b[0mTensorLikeDataAdapter\u001b[0m\u001b[0;34m,\u001b[0m \u001b[0mself\u001b[0m\u001b[0;34m)\u001b[0m\u001b[0;34m.\u001b[0m\u001b[0m__init__\u001b[0m\u001b[0;34m(\u001b[0m\u001b[0mx\u001b[0m\u001b[0;34m,\u001b[0m \u001b[0my\u001b[0m\u001b[0;34m,\u001b[0m \u001b[0;34m**\u001b[0m\u001b[0mkwargs\u001b[0m\u001b[0;34m)\u001b[0m\u001b[0;34m\u001b[0m\u001b[0;34m\u001b[0m\u001b[0m\n\u001b[0;32m--> 230\u001b[0;31m     \u001b[0mx\u001b[0m\u001b[0;34m,\u001b[0m \u001b[0my\u001b[0m\u001b[0;34m,\u001b[0m \u001b[0msample_weights\u001b[0m \u001b[0;34m=\u001b[0m \u001b[0m_process_tensorlike\u001b[0m\u001b[0;34m(\u001b[0m\u001b[0;34m(\u001b[0m\u001b[0mx\u001b[0m\u001b[0;34m,\u001b[0m \u001b[0my\u001b[0m\u001b[0;34m,\u001b[0m \u001b[0msample_weights\u001b[0m\u001b[0;34m)\u001b[0m\u001b[0;34m)\u001b[0m\u001b[0;34m\u001b[0m\u001b[0;34m\u001b[0m\u001b[0m\n\u001b[0m\u001b[1;32m    231\u001b[0m     sample_weight_modes = broadcast_sample_weight_modes(\n\u001b[1;32m    232\u001b[0m         sample_weights, sample_weight_modes)\n",
            "\u001b[0;32m/usr/local/lib/python3.7/dist-packages/keras/engine/data_adapter.py\u001b[0m in \u001b[0;36m_process_tensorlike\u001b[0;34m(inputs)\u001b[0m\n\u001b[1;32m   1029\u001b[0m     \u001b[0;32mreturn\u001b[0m \u001b[0mx\u001b[0m\u001b[0;34m\u001b[0m\u001b[0;34m\u001b[0m\u001b[0m\n\u001b[1;32m   1030\u001b[0m \u001b[0;34m\u001b[0m\u001b[0m\n\u001b[0;32m-> 1031\u001b[0;31m   \u001b[0minputs\u001b[0m \u001b[0;34m=\u001b[0m \u001b[0mtf\u001b[0m\u001b[0;34m.\u001b[0m\u001b[0mnest\u001b[0m\u001b[0;34m.\u001b[0m\u001b[0mmap_structure\u001b[0m\u001b[0;34m(\u001b[0m\u001b[0m_convert_numpy_and_scipy\u001b[0m\u001b[0;34m,\u001b[0m \u001b[0minputs\u001b[0m\u001b[0;34m)\u001b[0m\u001b[0;34m\u001b[0m\u001b[0;34m\u001b[0m\u001b[0m\n\u001b[0m\u001b[1;32m   1032\u001b[0m   \u001b[0;32mreturn\u001b[0m \u001b[0mtf\u001b[0m\u001b[0;34m.\u001b[0m\u001b[0m__internal__\u001b[0m\u001b[0;34m.\u001b[0m\u001b[0mnest\u001b[0m\u001b[0;34m.\u001b[0m\u001b[0mlist_to_tuple\u001b[0m\u001b[0;34m(\u001b[0m\u001b[0minputs\u001b[0m\u001b[0;34m)\u001b[0m\u001b[0;34m\u001b[0m\u001b[0;34m\u001b[0m\u001b[0m\n\u001b[1;32m   1033\u001b[0m \u001b[0;34m\u001b[0m\u001b[0m\n",
            "\u001b[0;32m/usr/local/lib/python3.7/dist-packages/tensorflow/python/util/nest.py\u001b[0m in \u001b[0;36mmap_structure\u001b[0;34m(func, *structure, **kwargs)\u001b[0m\n\u001b[1;32m    867\u001b[0m \u001b[0;34m\u001b[0m\u001b[0m\n\u001b[1;32m    868\u001b[0m   return pack_sequence_as(\n\u001b[0;32m--> 869\u001b[0;31m       \u001b[0mstructure\u001b[0m\u001b[0;34m[\u001b[0m\u001b[0;36m0\u001b[0m\u001b[0;34m]\u001b[0m\u001b[0;34m,\u001b[0m \u001b[0;34m[\u001b[0m\u001b[0mfunc\u001b[0m\u001b[0;34m(\u001b[0m\u001b[0;34m*\u001b[0m\u001b[0mx\u001b[0m\u001b[0;34m)\u001b[0m \u001b[0;32mfor\u001b[0m \u001b[0mx\u001b[0m \u001b[0;32min\u001b[0m \u001b[0mentries\u001b[0m\u001b[0;34m]\u001b[0m\u001b[0;34m,\u001b[0m\u001b[0;34m\u001b[0m\u001b[0;34m\u001b[0m\u001b[0m\n\u001b[0m\u001b[1;32m    870\u001b[0m       expand_composites=expand_composites)\n\u001b[1;32m    871\u001b[0m \u001b[0;34m\u001b[0m\u001b[0m\n",
            "\u001b[0;32m/usr/local/lib/python3.7/dist-packages/tensorflow/python/util/nest.py\u001b[0m in \u001b[0;36m<listcomp>\u001b[0;34m(.0)\u001b[0m\n\u001b[1;32m    867\u001b[0m \u001b[0;34m\u001b[0m\u001b[0m\n\u001b[1;32m    868\u001b[0m   return pack_sequence_as(\n\u001b[0;32m--> 869\u001b[0;31m       \u001b[0mstructure\u001b[0m\u001b[0;34m[\u001b[0m\u001b[0;36m0\u001b[0m\u001b[0;34m]\u001b[0m\u001b[0;34m,\u001b[0m \u001b[0;34m[\u001b[0m\u001b[0mfunc\u001b[0m\u001b[0;34m(\u001b[0m\u001b[0;34m*\u001b[0m\u001b[0mx\u001b[0m\u001b[0;34m)\u001b[0m \u001b[0;32mfor\u001b[0m \u001b[0mx\u001b[0m \u001b[0;32min\u001b[0m \u001b[0mentries\u001b[0m\u001b[0;34m]\u001b[0m\u001b[0;34m,\u001b[0m\u001b[0;34m\u001b[0m\u001b[0;34m\u001b[0m\u001b[0m\n\u001b[0m\u001b[1;32m    870\u001b[0m       expand_composites=expand_composites)\n\u001b[1;32m    871\u001b[0m \u001b[0;34m\u001b[0m\u001b[0m\n",
            "\u001b[0;32m/usr/local/lib/python3.7/dist-packages/keras/engine/data_adapter.py\u001b[0m in \u001b[0;36m_convert_numpy_and_scipy\u001b[0;34m(x)\u001b[0m\n\u001b[1;32m   1024\u001b[0m       \u001b[0;32mif\u001b[0m \u001b[0missubclass\u001b[0m\u001b[0;34m(\u001b[0m\u001b[0mx\u001b[0m\u001b[0;34m.\u001b[0m\u001b[0mdtype\u001b[0m\u001b[0;34m.\u001b[0m\u001b[0mtype\u001b[0m\u001b[0;34m,\u001b[0m \u001b[0mnp\u001b[0m\u001b[0;34m.\u001b[0m\u001b[0mfloating\u001b[0m\u001b[0;34m)\u001b[0m\u001b[0;34m:\u001b[0m\u001b[0;34m\u001b[0m\u001b[0;34m\u001b[0m\u001b[0m\n\u001b[1;32m   1025\u001b[0m         \u001b[0mdtype\u001b[0m \u001b[0;34m=\u001b[0m \u001b[0mbackend\u001b[0m\u001b[0;34m.\u001b[0m\u001b[0mfloatx\u001b[0m\u001b[0;34m(\u001b[0m\u001b[0;34m)\u001b[0m\u001b[0;34m\u001b[0m\u001b[0;34m\u001b[0m\u001b[0m\n\u001b[0;32m-> 1026\u001b[0;31m       \u001b[0;32mreturn\u001b[0m \u001b[0mtf\u001b[0m\u001b[0;34m.\u001b[0m\u001b[0mconvert_to_tensor\u001b[0m\u001b[0;34m(\u001b[0m\u001b[0mx\u001b[0m\u001b[0;34m,\u001b[0m \u001b[0mdtype\u001b[0m\u001b[0;34m=\u001b[0m\u001b[0mdtype\u001b[0m\u001b[0;34m)\u001b[0m\u001b[0;34m\u001b[0m\u001b[0;34m\u001b[0m\u001b[0m\n\u001b[0m\u001b[1;32m   1027\u001b[0m     \u001b[0;32melif\u001b[0m \u001b[0m_is_scipy_sparse\u001b[0m\u001b[0;34m(\u001b[0m\u001b[0mx\u001b[0m\u001b[0;34m)\u001b[0m\u001b[0;34m:\u001b[0m\u001b[0;34m\u001b[0m\u001b[0;34m\u001b[0m\u001b[0m\n\u001b[1;32m   1028\u001b[0m       \u001b[0;32mreturn\u001b[0m \u001b[0m_scipy_sparse_to_sparse_tensor\u001b[0m\u001b[0;34m(\u001b[0m\u001b[0mx\u001b[0m\u001b[0;34m)\u001b[0m\u001b[0;34m\u001b[0m\u001b[0;34m\u001b[0m\u001b[0m\n",
            "\u001b[0;32m/usr/local/lib/python3.7/dist-packages/tensorflow/python/util/dispatch.py\u001b[0m in \u001b[0;36mwrapper\u001b[0;34m(*args, **kwargs)\u001b[0m\n\u001b[1;32m    204\u001b[0m     \u001b[0;34m\"\"\"Call target, and fall back on dispatchers if there is a TypeError.\"\"\"\u001b[0m\u001b[0;34m\u001b[0m\u001b[0;34m\u001b[0m\u001b[0m\n\u001b[1;32m    205\u001b[0m     \u001b[0;32mtry\u001b[0m\u001b[0;34m:\u001b[0m\u001b[0;34m\u001b[0m\u001b[0;34m\u001b[0m\u001b[0m\n\u001b[0;32m--> 206\u001b[0;31m       \u001b[0;32mreturn\u001b[0m \u001b[0mtarget\u001b[0m\u001b[0;34m(\u001b[0m\u001b[0;34m*\u001b[0m\u001b[0margs\u001b[0m\u001b[0;34m,\u001b[0m \u001b[0;34m**\u001b[0m\u001b[0mkwargs\u001b[0m\u001b[0;34m)\u001b[0m\u001b[0;34m\u001b[0m\u001b[0;34m\u001b[0m\u001b[0m\n\u001b[0m\u001b[1;32m    207\u001b[0m     \u001b[0;32mexcept\u001b[0m \u001b[0;34m(\u001b[0m\u001b[0mTypeError\u001b[0m\u001b[0;34m,\u001b[0m \u001b[0mValueError\u001b[0m\u001b[0;34m)\u001b[0m\u001b[0;34m:\u001b[0m\u001b[0;34m\u001b[0m\u001b[0;34m\u001b[0m\u001b[0m\n\u001b[1;32m    208\u001b[0m       \u001b[0;31m# Note: convert_to_eager_tensor currently raises a ValueError, not a\u001b[0m\u001b[0;34m\u001b[0m\u001b[0;34m\u001b[0m\u001b[0;34m\u001b[0m\u001b[0m\n",
            "\u001b[0;32m/usr/local/lib/python3.7/dist-packages/tensorflow/python/framework/ops.py\u001b[0m in \u001b[0;36mconvert_to_tensor_v2_with_dispatch\u001b[0;34m(value, dtype, dtype_hint, name)\u001b[0m\n\u001b[1;32m   1429\u001b[0m   \"\"\"\n\u001b[1;32m   1430\u001b[0m   return convert_to_tensor_v2(\n\u001b[0;32m-> 1431\u001b[0;31m       value, dtype=dtype, dtype_hint=dtype_hint, name=name)\n\u001b[0m\u001b[1;32m   1432\u001b[0m \u001b[0;34m\u001b[0m\u001b[0m\n\u001b[1;32m   1433\u001b[0m \u001b[0;34m\u001b[0m\u001b[0m\n",
            "\u001b[0;32m/usr/local/lib/python3.7/dist-packages/tensorflow/python/framework/ops.py\u001b[0m in \u001b[0;36mconvert_to_tensor_v2\u001b[0;34m(value, dtype, dtype_hint, name)\u001b[0m\n\u001b[1;32m   1439\u001b[0m       \u001b[0mname\u001b[0m\u001b[0;34m=\u001b[0m\u001b[0mname\u001b[0m\u001b[0;34m,\u001b[0m\u001b[0;34m\u001b[0m\u001b[0;34m\u001b[0m\u001b[0m\n\u001b[1;32m   1440\u001b[0m       \u001b[0mpreferred_dtype\u001b[0m\u001b[0;34m=\u001b[0m\u001b[0mdtype_hint\u001b[0m\u001b[0;34m,\u001b[0m\u001b[0;34m\u001b[0m\u001b[0;34m\u001b[0m\u001b[0m\n\u001b[0;32m-> 1441\u001b[0;31m       as_ref=False)\n\u001b[0m\u001b[1;32m   1442\u001b[0m \u001b[0;34m\u001b[0m\u001b[0m\n\u001b[1;32m   1443\u001b[0m \u001b[0;34m\u001b[0m\u001b[0m\n",
            "\u001b[0;32m/usr/local/lib/python3.7/dist-packages/tensorflow/python/profiler/trace.py\u001b[0m in \u001b[0;36mwrapped\u001b[0;34m(*args, **kwargs)\u001b[0m\n\u001b[1;32m    161\u001b[0m         \u001b[0;32mwith\u001b[0m \u001b[0mTrace\u001b[0m\u001b[0;34m(\u001b[0m\u001b[0mtrace_name\u001b[0m\u001b[0;34m,\u001b[0m \u001b[0;34m**\u001b[0m\u001b[0mtrace_kwargs\u001b[0m\u001b[0;34m)\u001b[0m\u001b[0;34m:\u001b[0m\u001b[0;34m\u001b[0m\u001b[0;34m\u001b[0m\u001b[0m\n\u001b[1;32m    162\u001b[0m           \u001b[0;32mreturn\u001b[0m \u001b[0mfunc\u001b[0m\u001b[0;34m(\u001b[0m\u001b[0;34m*\u001b[0m\u001b[0margs\u001b[0m\u001b[0;34m,\u001b[0m \u001b[0;34m**\u001b[0m\u001b[0mkwargs\u001b[0m\u001b[0;34m)\u001b[0m\u001b[0;34m\u001b[0m\u001b[0;34m\u001b[0m\u001b[0m\n\u001b[0;32m--> 163\u001b[0;31m       \u001b[0;32mreturn\u001b[0m \u001b[0mfunc\u001b[0m\u001b[0;34m(\u001b[0m\u001b[0;34m*\u001b[0m\u001b[0margs\u001b[0m\u001b[0;34m,\u001b[0m \u001b[0;34m**\u001b[0m\u001b[0mkwargs\u001b[0m\u001b[0;34m)\u001b[0m\u001b[0;34m\u001b[0m\u001b[0;34m\u001b[0m\u001b[0m\n\u001b[0m\u001b[1;32m    164\u001b[0m \u001b[0;34m\u001b[0m\u001b[0m\n\u001b[1;32m    165\u001b[0m     \u001b[0;32mreturn\u001b[0m \u001b[0mwrapped\u001b[0m\u001b[0;34m\u001b[0m\u001b[0;34m\u001b[0m\u001b[0m\n",
            "\u001b[0;32m/usr/local/lib/python3.7/dist-packages/tensorflow/python/framework/ops.py\u001b[0m in \u001b[0;36mconvert_to_tensor\u001b[0;34m(value, dtype, name, as_ref, preferred_dtype, dtype_hint, ctx, accepted_result_types)\u001b[0m\n\u001b[1;32m   1564\u001b[0m \u001b[0;34m\u001b[0m\u001b[0m\n\u001b[1;32m   1565\u001b[0m     \u001b[0;32mif\u001b[0m \u001b[0mret\u001b[0m \u001b[0;32mis\u001b[0m \u001b[0;32mNone\u001b[0m\u001b[0;34m:\u001b[0m\u001b[0;34m\u001b[0m\u001b[0;34m\u001b[0m\u001b[0m\n\u001b[0;32m-> 1566\u001b[0;31m       \u001b[0mret\u001b[0m \u001b[0;34m=\u001b[0m \u001b[0mconversion_func\u001b[0m\u001b[0;34m(\u001b[0m\u001b[0mvalue\u001b[0m\u001b[0;34m,\u001b[0m \u001b[0mdtype\u001b[0m\u001b[0;34m=\u001b[0m\u001b[0mdtype\u001b[0m\u001b[0;34m,\u001b[0m \u001b[0mname\u001b[0m\u001b[0;34m=\u001b[0m\u001b[0mname\u001b[0m\u001b[0;34m,\u001b[0m \u001b[0mas_ref\u001b[0m\u001b[0;34m=\u001b[0m\u001b[0mas_ref\u001b[0m\u001b[0;34m)\u001b[0m\u001b[0;34m\u001b[0m\u001b[0;34m\u001b[0m\u001b[0m\n\u001b[0m\u001b[1;32m   1567\u001b[0m \u001b[0;34m\u001b[0m\u001b[0m\n\u001b[1;32m   1568\u001b[0m     \u001b[0;32mif\u001b[0m \u001b[0mret\u001b[0m \u001b[0;32mis\u001b[0m \u001b[0mNotImplemented\u001b[0m\u001b[0;34m:\u001b[0m\u001b[0;34m\u001b[0m\u001b[0;34m\u001b[0m\u001b[0m\n",
            "\u001b[0;32m/usr/local/lib/python3.7/dist-packages/tensorflow/python/framework/tensor_conversion_registry.py\u001b[0m in \u001b[0;36m_default_conversion_function\u001b[0;34m(***failed resolving arguments***)\u001b[0m\n\u001b[1;32m     50\u001b[0m \u001b[0;32mdef\u001b[0m \u001b[0m_default_conversion_function\u001b[0m\u001b[0;34m(\u001b[0m\u001b[0mvalue\u001b[0m\u001b[0;34m,\u001b[0m \u001b[0mdtype\u001b[0m\u001b[0;34m,\u001b[0m \u001b[0mname\u001b[0m\u001b[0;34m,\u001b[0m \u001b[0mas_ref\u001b[0m\u001b[0;34m)\u001b[0m\u001b[0;34m:\u001b[0m\u001b[0;34m\u001b[0m\u001b[0;34m\u001b[0m\u001b[0m\n\u001b[1;32m     51\u001b[0m   \u001b[0;32mdel\u001b[0m \u001b[0mas_ref\u001b[0m  \u001b[0;31m# Unused.\u001b[0m\u001b[0;34m\u001b[0m\u001b[0;34m\u001b[0m\u001b[0m\n\u001b[0;32m---> 52\u001b[0;31m   \u001b[0;32mreturn\u001b[0m \u001b[0mconstant_op\u001b[0m\u001b[0;34m.\u001b[0m\u001b[0mconstant\u001b[0m\u001b[0;34m(\u001b[0m\u001b[0mvalue\u001b[0m\u001b[0;34m,\u001b[0m \u001b[0mdtype\u001b[0m\u001b[0;34m,\u001b[0m \u001b[0mname\u001b[0m\u001b[0;34m=\u001b[0m\u001b[0mname\u001b[0m\u001b[0;34m)\u001b[0m\u001b[0;34m\u001b[0m\u001b[0;34m\u001b[0m\u001b[0m\n\u001b[0m\u001b[1;32m     53\u001b[0m \u001b[0;34m\u001b[0m\u001b[0m\n\u001b[1;32m     54\u001b[0m \u001b[0;34m\u001b[0m\u001b[0m\n",
            "\u001b[0;32m/usr/local/lib/python3.7/dist-packages/tensorflow/python/framework/constant_op.py\u001b[0m in \u001b[0;36mconstant\u001b[0;34m(value, dtype, shape, name)\u001b[0m\n\u001b[1;32m    270\u001b[0m   \"\"\"\n\u001b[1;32m    271\u001b[0m   return _constant_impl(value, dtype, shape, name, verify_shape=False,\n\u001b[0;32m--> 272\u001b[0;31m                         allow_broadcast=True)\n\u001b[0m\u001b[1;32m    273\u001b[0m \u001b[0;34m\u001b[0m\u001b[0m\n\u001b[1;32m    274\u001b[0m \u001b[0;34m\u001b[0m\u001b[0m\n",
            "\u001b[0;32m/usr/local/lib/python3.7/dist-packages/tensorflow/python/framework/constant_op.py\u001b[0m in \u001b[0;36m_constant_impl\u001b[0;34m(value, dtype, shape, name, verify_shape, allow_broadcast)\u001b[0m\n\u001b[1;32m    281\u001b[0m       \u001b[0;32mwith\u001b[0m \u001b[0mtrace\u001b[0m\u001b[0;34m.\u001b[0m\u001b[0mTrace\u001b[0m\u001b[0;34m(\u001b[0m\u001b[0;34m\"tf.constant\"\u001b[0m\u001b[0;34m)\u001b[0m\u001b[0;34m:\u001b[0m\u001b[0;34m\u001b[0m\u001b[0;34m\u001b[0m\u001b[0m\n\u001b[1;32m    282\u001b[0m         \u001b[0;32mreturn\u001b[0m \u001b[0m_constant_eager_impl\u001b[0m\u001b[0;34m(\u001b[0m\u001b[0mctx\u001b[0m\u001b[0;34m,\u001b[0m \u001b[0mvalue\u001b[0m\u001b[0;34m,\u001b[0m \u001b[0mdtype\u001b[0m\u001b[0;34m,\u001b[0m \u001b[0mshape\u001b[0m\u001b[0;34m,\u001b[0m \u001b[0mverify_shape\u001b[0m\u001b[0;34m)\u001b[0m\u001b[0;34m\u001b[0m\u001b[0;34m\u001b[0m\u001b[0m\n\u001b[0;32m--> 283\u001b[0;31m     \u001b[0;32mreturn\u001b[0m \u001b[0m_constant_eager_impl\u001b[0m\u001b[0;34m(\u001b[0m\u001b[0mctx\u001b[0m\u001b[0;34m,\u001b[0m \u001b[0mvalue\u001b[0m\u001b[0;34m,\u001b[0m \u001b[0mdtype\u001b[0m\u001b[0;34m,\u001b[0m \u001b[0mshape\u001b[0m\u001b[0;34m,\u001b[0m \u001b[0mverify_shape\u001b[0m\u001b[0;34m)\u001b[0m\u001b[0;34m\u001b[0m\u001b[0;34m\u001b[0m\u001b[0m\n\u001b[0m\u001b[1;32m    284\u001b[0m \u001b[0;34m\u001b[0m\u001b[0m\n\u001b[1;32m    285\u001b[0m   \u001b[0mg\u001b[0m \u001b[0;34m=\u001b[0m \u001b[0mops\u001b[0m\u001b[0;34m.\u001b[0m\u001b[0mget_default_graph\u001b[0m\u001b[0;34m(\u001b[0m\u001b[0;34m)\u001b[0m\u001b[0;34m\u001b[0m\u001b[0;34m\u001b[0m\u001b[0m\n",
            "\u001b[0;32m/usr/local/lib/python3.7/dist-packages/tensorflow/python/framework/constant_op.py\u001b[0m in \u001b[0;36m_constant_eager_impl\u001b[0;34m(ctx, value, dtype, shape, verify_shape)\u001b[0m\n\u001b[1;32m    306\u001b[0m \u001b[0;32mdef\u001b[0m \u001b[0m_constant_eager_impl\u001b[0m\u001b[0;34m(\u001b[0m\u001b[0mctx\u001b[0m\u001b[0;34m,\u001b[0m \u001b[0mvalue\u001b[0m\u001b[0;34m,\u001b[0m \u001b[0mdtype\u001b[0m\u001b[0;34m,\u001b[0m \u001b[0mshape\u001b[0m\u001b[0;34m,\u001b[0m \u001b[0mverify_shape\u001b[0m\u001b[0;34m)\u001b[0m\u001b[0;34m:\u001b[0m\u001b[0;34m\u001b[0m\u001b[0;34m\u001b[0m\u001b[0m\n\u001b[1;32m    307\u001b[0m   \u001b[0;34m\"\"\"Creates a constant on the current device.\"\"\"\u001b[0m\u001b[0;34m\u001b[0m\u001b[0;34m\u001b[0m\u001b[0m\n\u001b[0;32m--> 308\u001b[0;31m   \u001b[0mt\u001b[0m \u001b[0;34m=\u001b[0m \u001b[0mconvert_to_eager_tensor\u001b[0m\u001b[0;34m(\u001b[0m\u001b[0mvalue\u001b[0m\u001b[0;34m,\u001b[0m \u001b[0mctx\u001b[0m\u001b[0;34m,\u001b[0m \u001b[0mdtype\u001b[0m\u001b[0;34m)\u001b[0m\u001b[0;34m\u001b[0m\u001b[0;34m\u001b[0m\u001b[0m\n\u001b[0m\u001b[1;32m    309\u001b[0m   \u001b[0;32mif\u001b[0m \u001b[0mshape\u001b[0m \u001b[0;32mis\u001b[0m \u001b[0;32mNone\u001b[0m\u001b[0;34m:\u001b[0m\u001b[0;34m\u001b[0m\u001b[0;34m\u001b[0m\u001b[0m\n\u001b[1;32m    310\u001b[0m     \u001b[0;32mreturn\u001b[0m \u001b[0mt\u001b[0m\u001b[0;34m\u001b[0m\u001b[0;34m\u001b[0m\u001b[0m\n",
            "\u001b[0;32m/usr/local/lib/python3.7/dist-packages/tensorflow/python/framework/constant_op.py\u001b[0m in \u001b[0;36mconvert_to_eager_tensor\u001b[0;34m(value, ctx, dtype)\u001b[0m\n\u001b[1;32m    104\u001b[0m       \u001b[0mdtype\u001b[0m \u001b[0;34m=\u001b[0m \u001b[0mdtypes\u001b[0m\u001b[0;34m.\u001b[0m\u001b[0mas_dtype\u001b[0m\u001b[0;34m(\u001b[0m\u001b[0mdtype\u001b[0m\u001b[0;34m)\u001b[0m\u001b[0;34m.\u001b[0m\u001b[0mas_datatype_enum\u001b[0m\u001b[0;34m\u001b[0m\u001b[0;34m\u001b[0m\u001b[0m\n\u001b[1;32m    105\u001b[0m   \u001b[0mctx\u001b[0m\u001b[0;34m.\u001b[0m\u001b[0mensure_initialized\u001b[0m\u001b[0;34m(\u001b[0m\u001b[0;34m)\u001b[0m\u001b[0;34m\u001b[0m\u001b[0;34m\u001b[0m\u001b[0m\n\u001b[0;32m--> 106\u001b[0;31m   \u001b[0;32mreturn\u001b[0m \u001b[0mops\u001b[0m\u001b[0;34m.\u001b[0m\u001b[0mEagerTensor\u001b[0m\u001b[0;34m(\u001b[0m\u001b[0mvalue\u001b[0m\u001b[0;34m,\u001b[0m \u001b[0mctx\u001b[0m\u001b[0;34m.\u001b[0m\u001b[0mdevice_name\u001b[0m\u001b[0;34m,\u001b[0m \u001b[0mdtype\u001b[0m\u001b[0;34m)\u001b[0m\u001b[0;34m\u001b[0m\u001b[0;34m\u001b[0m\u001b[0m\n\u001b[0m\u001b[1;32m    107\u001b[0m \u001b[0;34m\u001b[0m\u001b[0m\n\u001b[1;32m    108\u001b[0m \u001b[0;34m\u001b[0m\u001b[0m\n",
            "\u001b[0;31mValueError\u001b[0m: Failed to convert a NumPy array to a Tensor (Unsupported object type numpy.ndarray)."
          ]
        }
      ]
    },
    {
      "cell_type": "code",
      "metadata": {
        "id": "b-_SpdKgaMzZ",
        "colab": {
          "base_uri": "https://localhost:8080/"
        },
        "outputId": "d867cb84-48f0-4a77-e762-18a3c904df91"
      },
      "source": [
        "# guardamos la red, para reutilizarla en el futuro, sin tener que volver a entrenar\n",
        "sport_model.save(\"sports_mnist.h5py\")\n",
        "\n"
      ],
      "execution_count": null,
      "outputs": [
        {
          "output_type": "stream",
          "name": "stdout",
          "text": [
            "INFO:tensorflow:Assets written to: sports_mnist.h5py/assets\n"
          ]
        }
      ]
    },
    {
      "cell_type": "markdown",
      "metadata": {
        "id": "e7tPIteVaSDT"
      },
      "source": [
        "# **Evaluamos la red**"
      ]
    },
    {
      "cell_type": "code",
      "metadata": {
        "id": "YTqtbCSAaUXT",
        "colab": {
          "base_uri": "https://localhost:8080/",
          "height": 321
        },
        "outputId": "a1997858-d1d7-416a-b0f8-4ec1c3708197"
      },
      "source": [
        "test_eval = sport_model.evaluate(test_X, test_Y_one_hot, verbose=1)\n"
      ],
      "execution_count": null,
      "outputs": [
        {
          "output_type": "error",
          "ename": "ValueError",
          "evalue": "ignored",
          "traceback": [
            "\u001b[0;31m---------------------------------------------------------------------------\u001b[0m",
            "\u001b[0;31mValueError\u001b[0m                                Traceback (most recent call last)",
            "\u001b[0;32m<ipython-input-164-ec4f22afca42>\u001b[0m in \u001b[0;36m<module>\u001b[0;34m()\u001b[0m\n\u001b[0;32m----> 1\u001b[0;31m \u001b[0mtest_eval\u001b[0m \u001b[0;34m=\u001b[0m \u001b[0msport_model\u001b[0m\u001b[0;34m.\u001b[0m\u001b[0mevaluate\u001b[0m\u001b[0;34m(\u001b[0m\u001b[0mtest_X\u001b[0m\u001b[0;34m,\u001b[0m \u001b[0mtest_Y_one_hot\u001b[0m\u001b[0;34m,\u001b[0m \u001b[0mverbose\u001b[0m\u001b[0;34m=\u001b[0m\u001b[0;36m1\u001b[0m\u001b[0;34m)\u001b[0m\u001b[0;34m\u001b[0m\u001b[0;34m\u001b[0m\u001b[0m\n\u001b[0m",
            "\u001b[0;32m/usr/local/lib/python3.7/dist-packages/keras/engine/training.py\u001b[0m in \u001b[0;36mevaluate\u001b[0;34m(self, x, y, batch_size, verbose, sample_weight, steps, callbacks, max_queue_size, workers, use_multiprocessing, return_dict, **kwargs)\u001b[0m\n\u001b[1;32m   1476\u001b[0m             \u001b[0muse_multiprocessing\u001b[0m\u001b[0;34m=\u001b[0m\u001b[0muse_multiprocessing\u001b[0m\u001b[0;34m,\u001b[0m\u001b[0;34m\u001b[0m\u001b[0;34m\u001b[0m\u001b[0m\n\u001b[1;32m   1477\u001b[0m             \u001b[0mmodel\u001b[0m\u001b[0;34m=\u001b[0m\u001b[0mself\u001b[0m\u001b[0;34m,\u001b[0m\u001b[0;34m\u001b[0m\u001b[0;34m\u001b[0m\u001b[0m\n\u001b[0;32m-> 1478\u001b[0;31m             steps_per_execution=self._steps_per_execution)\n\u001b[0m\u001b[1;32m   1479\u001b[0m \u001b[0;34m\u001b[0m\u001b[0m\n\u001b[1;32m   1480\u001b[0m       \u001b[0;31m# Container that configures and calls `tf.keras.Callback`s.\u001b[0m\u001b[0;34m\u001b[0m\u001b[0;34m\u001b[0m\u001b[0;34m\u001b[0m\u001b[0m\n",
            "\u001b[0;32m/usr/local/lib/python3.7/dist-packages/keras/engine/data_adapter.py\u001b[0m in \u001b[0;36mget_data_handler\u001b[0;34m(*args, **kwargs)\u001b[0m\n\u001b[1;32m   1381\u001b[0m   \u001b[0;32mif\u001b[0m \u001b[0mgetattr\u001b[0m\u001b[0;34m(\u001b[0m\u001b[0mkwargs\u001b[0m\u001b[0;34m[\u001b[0m\u001b[0;34m\"model\"\u001b[0m\u001b[0;34m]\u001b[0m\u001b[0;34m,\u001b[0m \u001b[0;34m\"_cluster_coordinator\"\u001b[0m\u001b[0;34m,\u001b[0m \u001b[0;32mNone\u001b[0m\u001b[0;34m)\u001b[0m\u001b[0;34m:\u001b[0m\u001b[0;34m\u001b[0m\u001b[0;34m\u001b[0m\u001b[0m\n\u001b[1;32m   1382\u001b[0m     \u001b[0;32mreturn\u001b[0m \u001b[0m_ClusterCoordinatorDataHandler\u001b[0m\u001b[0;34m(\u001b[0m\u001b[0;34m*\u001b[0m\u001b[0margs\u001b[0m\u001b[0;34m,\u001b[0m \u001b[0;34m**\u001b[0m\u001b[0mkwargs\u001b[0m\u001b[0;34m)\u001b[0m\u001b[0;34m\u001b[0m\u001b[0;34m\u001b[0m\u001b[0m\n\u001b[0;32m-> 1383\u001b[0;31m   \u001b[0;32mreturn\u001b[0m \u001b[0mDataHandler\u001b[0m\u001b[0;34m(\u001b[0m\u001b[0;34m*\u001b[0m\u001b[0margs\u001b[0m\u001b[0;34m,\u001b[0m \u001b[0;34m**\u001b[0m\u001b[0mkwargs\u001b[0m\u001b[0;34m)\u001b[0m\u001b[0;34m\u001b[0m\u001b[0;34m\u001b[0m\u001b[0m\n\u001b[0m\u001b[1;32m   1384\u001b[0m \u001b[0;34m\u001b[0m\u001b[0m\n\u001b[1;32m   1385\u001b[0m \u001b[0;34m\u001b[0m\u001b[0m\n",
            "\u001b[0;32m/usr/local/lib/python3.7/dist-packages/keras/engine/data_adapter.py\u001b[0m in \u001b[0;36m__init__\u001b[0;34m(self, x, y, sample_weight, batch_size, steps_per_epoch, initial_epoch, epochs, shuffle, class_weight, max_queue_size, workers, use_multiprocessing, model, steps_per_execution, distribute)\u001b[0m\n\u001b[1;32m   1148\u001b[0m         \u001b[0muse_multiprocessing\u001b[0m\u001b[0;34m=\u001b[0m\u001b[0muse_multiprocessing\u001b[0m\u001b[0;34m,\u001b[0m\u001b[0;34m\u001b[0m\u001b[0;34m\u001b[0m\u001b[0m\n\u001b[1;32m   1149\u001b[0m         \u001b[0mdistribution_strategy\u001b[0m\u001b[0;34m=\u001b[0m\u001b[0mtf\u001b[0m\u001b[0;34m.\u001b[0m\u001b[0mdistribute\u001b[0m\u001b[0;34m.\u001b[0m\u001b[0mget_strategy\u001b[0m\u001b[0;34m(\u001b[0m\u001b[0;34m)\u001b[0m\u001b[0;34m,\u001b[0m\u001b[0;34m\u001b[0m\u001b[0;34m\u001b[0m\u001b[0m\n\u001b[0;32m-> 1150\u001b[0;31m         model=model)\n\u001b[0m\u001b[1;32m   1151\u001b[0m \u001b[0;34m\u001b[0m\u001b[0m\n\u001b[1;32m   1152\u001b[0m     \u001b[0mstrategy\u001b[0m \u001b[0;34m=\u001b[0m \u001b[0mtf\u001b[0m\u001b[0;34m.\u001b[0m\u001b[0mdistribute\u001b[0m\u001b[0;34m.\u001b[0m\u001b[0mget_strategy\u001b[0m\u001b[0;34m(\u001b[0m\u001b[0;34m)\u001b[0m\u001b[0;34m\u001b[0m\u001b[0;34m\u001b[0m\u001b[0m\n",
            "\u001b[0;32m/usr/local/lib/python3.7/dist-packages/keras/engine/data_adapter.py\u001b[0m in \u001b[0;36m__init__\u001b[0;34m(self, x, y, sample_weights, sample_weight_modes, batch_size, epochs, steps, shuffle, **kwargs)\u001b[0m\n\u001b[1;32m    228\u001b[0m                **kwargs):\n\u001b[1;32m    229\u001b[0m     \u001b[0msuper\u001b[0m\u001b[0;34m(\u001b[0m\u001b[0mTensorLikeDataAdapter\u001b[0m\u001b[0;34m,\u001b[0m \u001b[0mself\u001b[0m\u001b[0;34m)\u001b[0m\u001b[0;34m.\u001b[0m\u001b[0m__init__\u001b[0m\u001b[0;34m(\u001b[0m\u001b[0mx\u001b[0m\u001b[0;34m,\u001b[0m \u001b[0my\u001b[0m\u001b[0;34m,\u001b[0m \u001b[0;34m**\u001b[0m\u001b[0mkwargs\u001b[0m\u001b[0;34m)\u001b[0m\u001b[0;34m\u001b[0m\u001b[0;34m\u001b[0m\u001b[0m\n\u001b[0;32m--> 230\u001b[0;31m     \u001b[0mx\u001b[0m\u001b[0;34m,\u001b[0m \u001b[0my\u001b[0m\u001b[0;34m,\u001b[0m \u001b[0msample_weights\u001b[0m \u001b[0;34m=\u001b[0m \u001b[0m_process_tensorlike\u001b[0m\u001b[0;34m(\u001b[0m\u001b[0;34m(\u001b[0m\u001b[0mx\u001b[0m\u001b[0;34m,\u001b[0m \u001b[0my\u001b[0m\u001b[0;34m,\u001b[0m \u001b[0msample_weights\u001b[0m\u001b[0;34m)\u001b[0m\u001b[0;34m)\u001b[0m\u001b[0;34m\u001b[0m\u001b[0;34m\u001b[0m\u001b[0m\n\u001b[0m\u001b[1;32m    231\u001b[0m     sample_weight_modes = broadcast_sample_weight_modes(\n\u001b[1;32m    232\u001b[0m         sample_weights, sample_weight_modes)\n",
            "\u001b[0;32m/usr/local/lib/python3.7/dist-packages/keras/engine/data_adapter.py\u001b[0m in \u001b[0;36m_process_tensorlike\u001b[0;34m(inputs)\u001b[0m\n\u001b[1;32m   1029\u001b[0m     \u001b[0;32mreturn\u001b[0m \u001b[0mx\u001b[0m\u001b[0;34m\u001b[0m\u001b[0;34m\u001b[0m\u001b[0m\n\u001b[1;32m   1030\u001b[0m \u001b[0;34m\u001b[0m\u001b[0m\n\u001b[0;32m-> 1031\u001b[0;31m   \u001b[0minputs\u001b[0m \u001b[0;34m=\u001b[0m \u001b[0mtf\u001b[0m\u001b[0;34m.\u001b[0m\u001b[0mnest\u001b[0m\u001b[0;34m.\u001b[0m\u001b[0mmap_structure\u001b[0m\u001b[0;34m(\u001b[0m\u001b[0m_convert_numpy_and_scipy\u001b[0m\u001b[0;34m,\u001b[0m \u001b[0minputs\u001b[0m\u001b[0;34m)\u001b[0m\u001b[0;34m\u001b[0m\u001b[0;34m\u001b[0m\u001b[0m\n\u001b[0m\u001b[1;32m   1032\u001b[0m   \u001b[0;32mreturn\u001b[0m \u001b[0mtf\u001b[0m\u001b[0;34m.\u001b[0m\u001b[0m__internal__\u001b[0m\u001b[0;34m.\u001b[0m\u001b[0mnest\u001b[0m\u001b[0;34m.\u001b[0m\u001b[0mlist_to_tuple\u001b[0m\u001b[0;34m(\u001b[0m\u001b[0minputs\u001b[0m\u001b[0;34m)\u001b[0m\u001b[0;34m\u001b[0m\u001b[0;34m\u001b[0m\u001b[0m\n\u001b[1;32m   1033\u001b[0m \u001b[0;34m\u001b[0m\u001b[0m\n",
            "\u001b[0;32m/usr/local/lib/python3.7/dist-packages/tensorflow/python/util/nest.py\u001b[0m in \u001b[0;36mmap_structure\u001b[0;34m(func, *structure, **kwargs)\u001b[0m\n\u001b[1;32m    867\u001b[0m \u001b[0;34m\u001b[0m\u001b[0m\n\u001b[1;32m    868\u001b[0m   return pack_sequence_as(\n\u001b[0;32m--> 869\u001b[0;31m       \u001b[0mstructure\u001b[0m\u001b[0;34m[\u001b[0m\u001b[0;36m0\u001b[0m\u001b[0;34m]\u001b[0m\u001b[0;34m,\u001b[0m \u001b[0;34m[\u001b[0m\u001b[0mfunc\u001b[0m\u001b[0;34m(\u001b[0m\u001b[0;34m*\u001b[0m\u001b[0mx\u001b[0m\u001b[0;34m)\u001b[0m \u001b[0;32mfor\u001b[0m \u001b[0mx\u001b[0m \u001b[0;32min\u001b[0m \u001b[0mentries\u001b[0m\u001b[0;34m]\u001b[0m\u001b[0;34m,\u001b[0m\u001b[0;34m\u001b[0m\u001b[0;34m\u001b[0m\u001b[0m\n\u001b[0m\u001b[1;32m    870\u001b[0m       expand_composites=expand_composites)\n\u001b[1;32m    871\u001b[0m \u001b[0;34m\u001b[0m\u001b[0m\n",
            "\u001b[0;32m/usr/local/lib/python3.7/dist-packages/tensorflow/python/util/nest.py\u001b[0m in \u001b[0;36m<listcomp>\u001b[0;34m(.0)\u001b[0m\n\u001b[1;32m    867\u001b[0m \u001b[0;34m\u001b[0m\u001b[0m\n\u001b[1;32m    868\u001b[0m   return pack_sequence_as(\n\u001b[0;32m--> 869\u001b[0;31m       \u001b[0mstructure\u001b[0m\u001b[0;34m[\u001b[0m\u001b[0;36m0\u001b[0m\u001b[0;34m]\u001b[0m\u001b[0;34m,\u001b[0m \u001b[0;34m[\u001b[0m\u001b[0mfunc\u001b[0m\u001b[0;34m(\u001b[0m\u001b[0;34m*\u001b[0m\u001b[0mx\u001b[0m\u001b[0;34m)\u001b[0m \u001b[0;32mfor\u001b[0m \u001b[0mx\u001b[0m \u001b[0;32min\u001b[0m \u001b[0mentries\u001b[0m\u001b[0;34m]\u001b[0m\u001b[0;34m,\u001b[0m\u001b[0;34m\u001b[0m\u001b[0;34m\u001b[0m\u001b[0m\n\u001b[0m\u001b[1;32m    870\u001b[0m       expand_composites=expand_composites)\n\u001b[1;32m    871\u001b[0m \u001b[0;34m\u001b[0m\u001b[0m\n",
            "\u001b[0;32m/usr/local/lib/python3.7/dist-packages/keras/engine/data_adapter.py\u001b[0m in \u001b[0;36m_convert_numpy_and_scipy\u001b[0;34m(x)\u001b[0m\n\u001b[1;32m   1024\u001b[0m       \u001b[0;32mif\u001b[0m \u001b[0missubclass\u001b[0m\u001b[0;34m(\u001b[0m\u001b[0mx\u001b[0m\u001b[0;34m.\u001b[0m\u001b[0mdtype\u001b[0m\u001b[0;34m.\u001b[0m\u001b[0mtype\u001b[0m\u001b[0;34m,\u001b[0m \u001b[0mnp\u001b[0m\u001b[0;34m.\u001b[0m\u001b[0mfloating\u001b[0m\u001b[0;34m)\u001b[0m\u001b[0;34m:\u001b[0m\u001b[0;34m\u001b[0m\u001b[0;34m\u001b[0m\u001b[0m\n\u001b[1;32m   1025\u001b[0m         \u001b[0mdtype\u001b[0m \u001b[0;34m=\u001b[0m \u001b[0mbackend\u001b[0m\u001b[0;34m.\u001b[0m\u001b[0mfloatx\u001b[0m\u001b[0;34m(\u001b[0m\u001b[0;34m)\u001b[0m\u001b[0;34m\u001b[0m\u001b[0;34m\u001b[0m\u001b[0m\n\u001b[0;32m-> 1026\u001b[0;31m       \u001b[0;32mreturn\u001b[0m \u001b[0mtf\u001b[0m\u001b[0;34m.\u001b[0m\u001b[0mconvert_to_tensor\u001b[0m\u001b[0;34m(\u001b[0m\u001b[0mx\u001b[0m\u001b[0;34m,\u001b[0m \u001b[0mdtype\u001b[0m\u001b[0;34m=\u001b[0m\u001b[0mdtype\u001b[0m\u001b[0;34m)\u001b[0m\u001b[0;34m\u001b[0m\u001b[0;34m\u001b[0m\u001b[0m\n\u001b[0m\u001b[1;32m   1027\u001b[0m     \u001b[0;32melif\u001b[0m \u001b[0m_is_scipy_sparse\u001b[0m\u001b[0;34m(\u001b[0m\u001b[0mx\u001b[0m\u001b[0;34m)\u001b[0m\u001b[0;34m:\u001b[0m\u001b[0;34m\u001b[0m\u001b[0;34m\u001b[0m\u001b[0m\n\u001b[1;32m   1028\u001b[0m       \u001b[0;32mreturn\u001b[0m \u001b[0m_scipy_sparse_to_sparse_tensor\u001b[0m\u001b[0;34m(\u001b[0m\u001b[0mx\u001b[0m\u001b[0;34m)\u001b[0m\u001b[0;34m\u001b[0m\u001b[0;34m\u001b[0m\u001b[0m\n",
            "\u001b[0;32m/usr/local/lib/python3.7/dist-packages/tensorflow/python/util/dispatch.py\u001b[0m in \u001b[0;36mwrapper\u001b[0;34m(*args, **kwargs)\u001b[0m\n\u001b[1;32m    204\u001b[0m     \u001b[0;34m\"\"\"Call target, and fall back on dispatchers if there is a TypeError.\"\"\"\u001b[0m\u001b[0;34m\u001b[0m\u001b[0;34m\u001b[0m\u001b[0m\n\u001b[1;32m    205\u001b[0m     \u001b[0;32mtry\u001b[0m\u001b[0;34m:\u001b[0m\u001b[0;34m\u001b[0m\u001b[0;34m\u001b[0m\u001b[0m\n\u001b[0;32m--> 206\u001b[0;31m       \u001b[0;32mreturn\u001b[0m \u001b[0mtarget\u001b[0m\u001b[0;34m(\u001b[0m\u001b[0;34m*\u001b[0m\u001b[0margs\u001b[0m\u001b[0;34m,\u001b[0m \u001b[0;34m**\u001b[0m\u001b[0mkwargs\u001b[0m\u001b[0;34m)\u001b[0m\u001b[0;34m\u001b[0m\u001b[0;34m\u001b[0m\u001b[0m\n\u001b[0m\u001b[1;32m    207\u001b[0m     \u001b[0;32mexcept\u001b[0m \u001b[0;34m(\u001b[0m\u001b[0mTypeError\u001b[0m\u001b[0;34m,\u001b[0m \u001b[0mValueError\u001b[0m\u001b[0;34m)\u001b[0m\u001b[0;34m:\u001b[0m\u001b[0;34m\u001b[0m\u001b[0;34m\u001b[0m\u001b[0m\n\u001b[1;32m    208\u001b[0m       \u001b[0;31m# Note: convert_to_eager_tensor currently raises a ValueError, not a\u001b[0m\u001b[0;34m\u001b[0m\u001b[0;34m\u001b[0m\u001b[0;34m\u001b[0m\u001b[0m\n",
            "\u001b[0;32m/usr/local/lib/python3.7/dist-packages/tensorflow/python/framework/ops.py\u001b[0m in \u001b[0;36mconvert_to_tensor_v2_with_dispatch\u001b[0;34m(value, dtype, dtype_hint, name)\u001b[0m\n\u001b[1;32m   1429\u001b[0m   \"\"\"\n\u001b[1;32m   1430\u001b[0m   return convert_to_tensor_v2(\n\u001b[0;32m-> 1431\u001b[0;31m       value, dtype=dtype, dtype_hint=dtype_hint, name=name)\n\u001b[0m\u001b[1;32m   1432\u001b[0m \u001b[0;34m\u001b[0m\u001b[0m\n\u001b[1;32m   1433\u001b[0m \u001b[0;34m\u001b[0m\u001b[0m\n",
            "\u001b[0;32m/usr/local/lib/python3.7/dist-packages/tensorflow/python/framework/ops.py\u001b[0m in \u001b[0;36mconvert_to_tensor_v2\u001b[0;34m(value, dtype, dtype_hint, name)\u001b[0m\n\u001b[1;32m   1439\u001b[0m       \u001b[0mname\u001b[0m\u001b[0;34m=\u001b[0m\u001b[0mname\u001b[0m\u001b[0;34m,\u001b[0m\u001b[0;34m\u001b[0m\u001b[0;34m\u001b[0m\u001b[0m\n\u001b[1;32m   1440\u001b[0m       \u001b[0mpreferred_dtype\u001b[0m\u001b[0;34m=\u001b[0m\u001b[0mdtype_hint\u001b[0m\u001b[0;34m,\u001b[0m\u001b[0;34m\u001b[0m\u001b[0;34m\u001b[0m\u001b[0m\n\u001b[0;32m-> 1441\u001b[0;31m       as_ref=False)\n\u001b[0m\u001b[1;32m   1442\u001b[0m \u001b[0;34m\u001b[0m\u001b[0m\n\u001b[1;32m   1443\u001b[0m \u001b[0;34m\u001b[0m\u001b[0m\n",
            "\u001b[0;32m/usr/local/lib/python3.7/dist-packages/tensorflow/python/profiler/trace.py\u001b[0m in \u001b[0;36mwrapped\u001b[0;34m(*args, **kwargs)\u001b[0m\n\u001b[1;32m    161\u001b[0m         \u001b[0;32mwith\u001b[0m \u001b[0mTrace\u001b[0m\u001b[0;34m(\u001b[0m\u001b[0mtrace_name\u001b[0m\u001b[0;34m,\u001b[0m \u001b[0;34m**\u001b[0m\u001b[0mtrace_kwargs\u001b[0m\u001b[0;34m)\u001b[0m\u001b[0;34m:\u001b[0m\u001b[0;34m\u001b[0m\u001b[0;34m\u001b[0m\u001b[0m\n\u001b[1;32m    162\u001b[0m           \u001b[0;32mreturn\u001b[0m \u001b[0mfunc\u001b[0m\u001b[0;34m(\u001b[0m\u001b[0;34m*\u001b[0m\u001b[0margs\u001b[0m\u001b[0;34m,\u001b[0m \u001b[0;34m**\u001b[0m\u001b[0mkwargs\u001b[0m\u001b[0;34m)\u001b[0m\u001b[0;34m\u001b[0m\u001b[0;34m\u001b[0m\u001b[0m\n\u001b[0;32m--> 163\u001b[0;31m       \u001b[0;32mreturn\u001b[0m \u001b[0mfunc\u001b[0m\u001b[0;34m(\u001b[0m\u001b[0;34m*\u001b[0m\u001b[0margs\u001b[0m\u001b[0;34m,\u001b[0m \u001b[0;34m**\u001b[0m\u001b[0mkwargs\u001b[0m\u001b[0;34m)\u001b[0m\u001b[0;34m\u001b[0m\u001b[0;34m\u001b[0m\u001b[0m\n\u001b[0m\u001b[1;32m    164\u001b[0m \u001b[0;34m\u001b[0m\u001b[0m\n\u001b[1;32m    165\u001b[0m     \u001b[0;32mreturn\u001b[0m \u001b[0mwrapped\u001b[0m\u001b[0;34m\u001b[0m\u001b[0;34m\u001b[0m\u001b[0m\n",
            "\u001b[0;32m/usr/local/lib/python3.7/dist-packages/tensorflow/python/framework/ops.py\u001b[0m in \u001b[0;36mconvert_to_tensor\u001b[0;34m(value, dtype, name, as_ref, preferred_dtype, dtype_hint, ctx, accepted_result_types)\u001b[0m\n\u001b[1;32m   1564\u001b[0m \u001b[0;34m\u001b[0m\u001b[0m\n\u001b[1;32m   1565\u001b[0m     \u001b[0;32mif\u001b[0m \u001b[0mret\u001b[0m \u001b[0;32mis\u001b[0m \u001b[0;32mNone\u001b[0m\u001b[0;34m:\u001b[0m\u001b[0;34m\u001b[0m\u001b[0;34m\u001b[0m\u001b[0m\n\u001b[0;32m-> 1566\u001b[0;31m       \u001b[0mret\u001b[0m \u001b[0;34m=\u001b[0m \u001b[0mconversion_func\u001b[0m\u001b[0;34m(\u001b[0m\u001b[0mvalue\u001b[0m\u001b[0;34m,\u001b[0m \u001b[0mdtype\u001b[0m\u001b[0;34m=\u001b[0m\u001b[0mdtype\u001b[0m\u001b[0;34m,\u001b[0m \u001b[0mname\u001b[0m\u001b[0;34m=\u001b[0m\u001b[0mname\u001b[0m\u001b[0;34m,\u001b[0m \u001b[0mas_ref\u001b[0m\u001b[0;34m=\u001b[0m\u001b[0mas_ref\u001b[0m\u001b[0;34m)\u001b[0m\u001b[0;34m\u001b[0m\u001b[0;34m\u001b[0m\u001b[0m\n\u001b[0m\u001b[1;32m   1567\u001b[0m \u001b[0;34m\u001b[0m\u001b[0m\n\u001b[1;32m   1568\u001b[0m     \u001b[0;32mif\u001b[0m \u001b[0mret\u001b[0m \u001b[0;32mis\u001b[0m \u001b[0mNotImplemented\u001b[0m\u001b[0;34m:\u001b[0m\u001b[0;34m\u001b[0m\u001b[0;34m\u001b[0m\u001b[0m\n",
            "\u001b[0;32m/usr/local/lib/python3.7/dist-packages/tensorflow/python/framework/tensor_conversion_registry.py\u001b[0m in \u001b[0;36m_default_conversion_function\u001b[0;34m(***failed resolving arguments***)\u001b[0m\n\u001b[1;32m     50\u001b[0m \u001b[0;32mdef\u001b[0m \u001b[0m_default_conversion_function\u001b[0m\u001b[0;34m(\u001b[0m\u001b[0mvalue\u001b[0m\u001b[0;34m,\u001b[0m \u001b[0mdtype\u001b[0m\u001b[0;34m,\u001b[0m \u001b[0mname\u001b[0m\u001b[0;34m,\u001b[0m \u001b[0mas_ref\u001b[0m\u001b[0;34m)\u001b[0m\u001b[0;34m:\u001b[0m\u001b[0;34m\u001b[0m\u001b[0;34m\u001b[0m\u001b[0m\n\u001b[1;32m     51\u001b[0m   \u001b[0;32mdel\u001b[0m \u001b[0mas_ref\u001b[0m  \u001b[0;31m# Unused.\u001b[0m\u001b[0;34m\u001b[0m\u001b[0;34m\u001b[0m\u001b[0m\n\u001b[0;32m---> 52\u001b[0;31m   \u001b[0;32mreturn\u001b[0m \u001b[0mconstant_op\u001b[0m\u001b[0;34m.\u001b[0m\u001b[0mconstant\u001b[0m\u001b[0;34m(\u001b[0m\u001b[0mvalue\u001b[0m\u001b[0;34m,\u001b[0m \u001b[0mdtype\u001b[0m\u001b[0;34m,\u001b[0m \u001b[0mname\u001b[0m\u001b[0;34m=\u001b[0m\u001b[0mname\u001b[0m\u001b[0;34m)\u001b[0m\u001b[0;34m\u001b[0m\u001b[0;34m\u001b[0m\u001b[0m\n\u001b[0m\u001b[1;32m     53\u001b[0m \u001b[0;34m\u001b[0m\u001b[0m\n\u001b[1;32m     54\u001b[0m \u001b[0;34m\u001b[0m\u001b[0m\n",
            "\u001b[0;32m/usr/local/lib/python3.7/dist-packages/tensorflow/python/framework/constant_op.py\u001b[0m in \u001b[0;36mconstant\u001b[0;34m(value, dtype, shape, name)\u001b[0m\n\u001b[1;32m    270\u001b[0m   \"\"\"\n\u001b[1;32m    271\u001b[0m   return _constant_impl(value, dtype, shape, name, verify_shape=False,\n\u001b[0;32m--> 272\u001b[0;31m                         allow_broadcast=True)\n\u001b[0m\u001b[1;32m    273\u001b[0m \u001b[0;34m\u001b[0m\u001b[0m\n\u001b[1;32m    274\u001b[0m \u001b[0;34m\u001b[0m\u001b[0m\n",
            "\u001b[0;32m/usr/local/lib/python3.7/dist-packages/tensorflow/python/framework/constant_op.py\u001b[0m in \u001b[0;36m_constant_impl\u001b[0;34m(value, dtype, shape, name, verify_shape, allow_broadcast)\u001b[0m\n\u001b[1;32m    281\u001b[0m       \u001b[0;32mwith\u001b[0m \u001b[0mtrace\u001b[0m\u001b[0;34m.\u001b[0m\u001b[0mTrace\u001b[0m\u001b[0;34m(\u001b[0m\u001b[0;34m\"tf.constant\"\u001b[0m\u001b[0;34m)\u001b[0m\u001b[0;34m:\u001b[0m\u001b[0;34m\u001b[0m\u001b[0;34m\u001b[0m\u001b[0m\n\u001b[1;32m    282\u001b[0m         \u001b[0;32mreturn\u001b[0m \u001b[0m_constant_eager_impl\u001b[0m\u001b[0;34m(\u001b[0m\u001b[0mctx\u001b[0m\u001b[0;34m,\u001b[0m \u001b[0mvalue\u001b[0m\u001b[0;34m,\u001b[0m \u001b[0mdtype\u001b[0m\u001b[0;34m,\u001b[0m \u001b[0mshape\u001b[0m\u001b[0;34m,\u001b[0m \u001b[0mverify_shape\u001b[0m\u001b[0;34m)\u001b[0m\u001b[0;34m\u001b[0m\u001b[0;34m\u001b[0m\u001b[0m\n\u001b[0;32m--> 283\u001b[0;31m     \u001b[0;32mreturn\u001b[0m \u001b[0m_constant_eager_impl\u001b[0m\u001b[0;34m(\u001b[0m\u001b[0mctx\u001b[0m\u001b[0;34m,\u001b[0m \u001b[0mvalue\u001b[0m\u001b[0;34m,\u001b[0m \u001b[0mdtype\u001b[0m\u001b[0;34m,\u001b[0m \u001b[0mshape\u001b[0m\u001b[0;34m,\u001b[0m \u001b[0mverify_shape\u001b[0m\u001b[0;34m)\u001b[0m\u001b[0;34m\u001b[0m\u001b[0;34m\u001b[0m\u001b[0m\n\u001b[0m\u001b[1;32m    284\u001b[0m \u001b[0;34m\u001b[0m\u001b[0m\n\u001b[1;32m    285\u001b[0m   \u001b[0mg\u001b[0m \u001b[0;34m=\u001b[0m \u001b[0mops\u001b[0m\u001b[0;34m.\u001b[0m\u001b[0mget_default_graph\u001b[0m\u001b[0;34m(\u001b[0m\u001b[0;34m)\u001b[0m\u001b[0;34m\u001b[0m\u001b[0;34m\u001b[0m\u001b[0m\n",
            "\u001b[0;32m/usr/local/lib/python3.7/dist-packages/tensorflow/python/framework/constant_op.py\u001b[0m in \u001b[0;36m_constant_eager_impl\u001b[0;34m(ctx, value, dtype, shape, verify_shape)\u001b[0m\n\u001b[1;32m    306\u001b[0m \u001b[0;32mdef\u001b[0m \u001b[0m_constant_eager_impl\u001b[0m\u001b[0;34m(\u001b[0m\u001b[0mctx\u001b[0m\u001b[0;34m,\u001b[0m \u001b[0mvalue\u001b[0m\u001b[0;34m,\u001b[0m \u001b[0mdtype\u001b[0m\u001b[0;34m,\u001b[0m \u001b[0mshape\u001b[0m\u001b[0;34m,\u001b[0m \u001b[0mverify_shape\u001b[0m\u001b[0;34m)\u001b[0m\u001b[0;34m:\u001b[0m\u001b[0;34m\u001b[0m\u001b[0;34m\u001b[0m\u001b[0m\n\u001b[1;32m    307\u001b[0m   \u001b[0;34m\"\"\"Creates a constant on the current device.\"\"\"\u001b[0m\u001b[0;34m\u001b[0m\u001b[0;34m\u001b[0m\u001b[0m\n\u001b[0;32m--> 308\u001b[0;31m   \u001b[0mt\u001b[0m \u001b[0;34m=\u001b[0m \u001b[0mconvert_to_eager_tensor\u001b[0m\u001b[0;34m(\u001b[0m\u001b[0mvalue\u001b[0m\u001b[0;34m,\u001b[0m \u001b[0mctx\u001b[0m\u001b[0;34m,\u001b[0m \u001b[0mdtype\u001b[0m\u001b[0;34m)\u001b[0m\u001b[0;34m\u001b[0m\u001b[0;34m\u001b[0m\u001b[0m\n\u001b[0m\u001b[1;32m    309\u001b[0m   \u001b[0;32mif\u001b[0m \u001b[0mshape\u001b[0m \u001b[0;32mis\u001b[0m \u001b[0;32mNone\u001b[0m\u001b[0;34m:\u001b[0m\u001b[0;34m\u001b[0m\u001b[0;34m\u001b[0m\u001b[0m\n\u001b[1;32m    310\u001b[0m     \u001b[0;32mreturn\u001b[0m \u001b[0mt\u001b[0m\u001b[0;34m\u001b[0m\u001b[0;34m\u001b[0m\u001b[0m\n",
            "\u001b[0;32m/usr/local/lib/python3.7/dist-packages/tensorflow/python/framework/constant_op.py\u001b[0m in \u001b[0;36mconvert_to_eager_tensor\u001b[0;34m(value, ctx, dtype)\u001b[0m\n\u001b[1;32m    104\u001b[0m       \u001b[0mdtype\u001b[0m \u001b[0;34m=\u001b[0m \u001b[0mdtypes\u001b[0m\u001b[0;34m.\u001b[0m\u001b[0mas_dtype\u001b[0m\u001b[0;34m(\u001b[0m\u001b[0mdtype\u001b[0m\u001b[0;34m)\u001b[0m\u001b[0;34m.\u001b[0m\u001b[0mas_datatype_enum\u001b[0m\u001b[0;34m\u001b[0m\u001b[0;34m\u001b[0m\u001b[0m\n\u001b[1;32m    105\u001b[0m   \u001b[0mctx\u001b[0m\u001b[0;34m.\u001b[0m\u001b[0mensure_initialized\u001b[0m\u001b[0;34m(\u001b[0m\u001b[0;34m)\u001b[0m\u001b[0;34m\u001b[0m\u001b[0;34m\u001b[0m\u001b[0m\n\u001b[0;32m--> 106\u001b[0;31m   \u001b[0;32mreturn\u001b[0m \u001b[0mops\u001b[0m\u001b[0;34m.\u001b[0m\u001b[0mEagerTensor\u001b[0m\u001b[0;34m(\u001b[0m\u001b[0mvalue\u001b[0m\u001b[0;34m,\u001b[0m \u001b[0mctx\u001b[0m\u001b[0;34m.\u001b[0m\u001b[0mdevice_name\u001b[0m\u001b[0;34m,\u001b[0m \u001b[0mdtype\u001b[0m\u001b[0;34m)\u001b[0m\u001b[0;34m\u001b[0m\u001b[0;34m\u001b[0m\u001b[0m\n\u001b[0m\u001b[1;32m    107\u001b[0m \u001b[0;34m\u001b[0m\u001b[0m\n\u001b[1;32m    108\u001b[0m \u001b[0;34m\u001b[0m\u001b[0m\n",
            "\u001b[0;31mValueError\u001b[0m: Failed to convert a NumPy array to a Tensor (Unsupported object type numpy.ndarray)."
          ]
        }
      ]
    },
    {
      "cell_type": "code",
      "metadata": {
        "id": "NjImo85MaWgj",
        "colab": {
          "base_uri": "https://localhost:8080/",
          "height": 208
        },
        "outputId": "bcea84f6-6025-42ce-ca28-e5efab4526fa"
      },
      "source": [
        "print('Test loss:', test_eval[0])\n",
        "print('Test accuracy:', test_eval[1])\n",
        "\n"
      ],
      "execution_count": null,
      "outputs": [
        {
          "output_type": "error",
          "ename": "NameError",
          "evalue": "ignored",
          "traceback": [
            "\u001b[0;31m---------------------------------------------------------------------------\u001b[0m",
            "\u001b[0;31mNameError\u001b[0m                                 Traceback (most recent call last)",
            "\u001b[0;32m<ipython-input-165-dd5049402c55>\u001b[0m in \u001b[0;36m<module>\u001b[0;34m()\u001b[0m\n\u001b[0;32m----> 1\u001b[0;31m \u001b[0mprint\u001b[0m\u001b[0;34m(\u001b[0m\u001b[0;34m'Test loss:'\u001b[0m\u001b[0;34m,\u001b[0m \u001b[0mtest_eval\u001b[0m\u001b[0;34m[\u001b[0m\u001b[0;36m0\u001b[0m\u001b[0;34m]\u001b[0m\u001b[0;34m)\u001b[0m\u001b[0;34m\u001b[0m\u001b[0;34m\u001b[0m\u001b[0m\n\u001b[0m\u001b[1;32m      2\u001b[0m \u001b[0mprint\u001b[0m\u001b[0;34m(\u001b[0m\u001b[0;34m'Test accuracy:'\u001b[0m\u001b[0;34m,\u001b[0m \u001b[0mtest_eval\u001b[0m\u001b[0;34m[\u001b[0m\u001b[0;36m1\u001b[0m\u001b[0;34m]\u001b[0m\u001b[0;34m)\u001b[0m\u001b[0;34m\u001b[0m\u001b[0;34m\u001b[0m\u001b[0m\n\u001b[1;32m      3\u001b[0m \u001b[0;34m\u001b[0m\u001b[0m\n",
            "\u001b[0;31mNameError\u001b[0m: name 'test_eval' is not defined"
          ]
        }
      ]
    },
    {
      "cell_type": "code",
      "metadata": {
        "id": "ghvqyBVraa8f",
        "colab": {
          "base_uri": "https://localhost:8080/",
          "height": 244
        },
        "outputId": "09517af3-cf68-4f3b-a93a-d3dc727e2c08"
      },
      "source": [
        "accuracy = sport_train.history['acc']\n",
        "val_accuracy = sport_train.history['val_acc']\n",
        "loss = sport_train.history['loss']\n",
        "val_loss = sport_train.history['val_loss']\n",
        "epochs = range(len(accuracy))\n",
        "plt.plot(epochs, accuracy, 'bo', label='Training accuracy')\n",
        "plt.plot(epochs, val_accuracy, 'b', label='Validation accuracy')\n",
        "plt.title('Training and validation accuracy')\n",
        "plt.legend()\n",
        "plt.figure()\n",
        "plt.plot(epochs, loss, 'bo', label='Training loss')\n",
        "plt.plot(epochs, val_loss, 'b', label='Validation loss')\n",
        "plt.title('Training and validation loss')\n",
        "plt.legend()\n",
        "plt.show()\n"
      ],
      "execution_count": null,
      "outputs": [
        {
          "output_type": "error",
          "ename": "NameError",
          "evalue": "ignored",
          "traceback": [
            "\u001b[0;31m---------------------------------------------------------------------------\u001b[0m",
            "\u001b[0;31mNameError\u001b[0m                                 Traceback (most recent call last)",
            "\u001b[0;32m<ipython-input-166-b9bfc0562d5e>\u001b[0m in \u001b[0;36m<module>\u001b[0;34m()\u001b[0m\n\u001b[0;32m----> 1\u001b[0;31m \u001b[0maccuracy\u001b[0m \u001b[0;34m=\u001b[0m \u001b[0msport_train\u001b[0m\u001b[0;34m.\u001b[0m\u001b[0mhistory\u001b[0m\u001b[0;34m[\u001b[0m\u001b[0;34m'acc'\u001b[0m\u001b[0;34m]\u001b[0m\u001b[0;34m\u001b[0m\u001b[0;34m\u001b[0m\u001b[0m\n\u001b[0m\u001b[1;32m      2\u001b[0m \u001b[0mval_accuracy\u001b[0m \u001b[0;34m=\u001b[0m \u001b[0msport_train\u001b[0m\u001b[0;34m.\u001b[0m\u001b[0mhistory\u001b[0m\u001b[0;34m[\u001b[0m\u001b[0;34m'val_acc'\u001b[0m\u001b[0;34m]\u001b[0m\u001b[0;34m\u001b[0m\u001b[0;34m\u001b[0m\u001b[0m\n\u001b[1;32m      3\u001b[0m \u001b[0mloss\u001b[0m \u001b[0;34m=\u001b[0m \u001b[0msport_train\u001b[0m\u001b[0;34m.\u001b[0m\u001b[0mhistory\u001b[0m\u001b[0;34m[\u001b[0m\u001b[0;34m'loss'\u001b[0m\u001b[0;34m]\u001b[0m\u001b[0;34m\u001b[0m\u001b[0;34m\u001b[0m\u001b[0m\n\u001b[1;32m      4\u001b[0m \u001b[0mval_loss\u001b[0m \u001b[0;34m=\u001b[0m \u001b[0msport_train\u001b[0m\u001b[0;34m.\u001b[0m\u001b[0mhistory\u001b[0m\u001b[0;34m[\u001b[0m\u001b[0;34m'val_loss'\u001b[0m\u001b[0;34m]\u001b[0m\u001b[0;34m\u001b[0m\u001b[0;34m\u001b[0m\u001b[0m\n\u001b[1;32m      5\u001b[0m \u001b[0mepochs\u001b[0m \u001b[0;34m=\u001b[0m \u001b[0mrange\u001b[0m\u001b[0;34m(\u001b[0m\u001b[0mlen\u001b[0m\u001b[0;34m(\u001b[0m\u001b[0maccuracy\u001b[0m\u001b[0;34m)\u001b[0m\u001b[0;34m)\u001b[0m\u001b[0;34m\u001b[0m\u001b[0;34m\u001b[0m\u001b[0m\n",
            "\u001b[0;31mNameError\u001b[0m: name 'sport_train' is not defined"
          ]
        }
      ]
    },
    {
      "cell_type": "markdown",
      "metadata": {
        "id": "KWBdtG6magTC"
      },
      "source": [
        "![imagen.png](data:image/png;base64,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)"
      ]
    },
    {
      "cell_type": "markdown",
      "metadata": {
        "id": "14rpFV4zanT-"
      },
      "source": [
        "![imagen.png](data:image/png;base64,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)"
      ]
    },
    {
      "cell_type": "code",
      "metadata": {
        "id": "bwPQ7gWZajD6",
        "colab": {
          "base_uri": "https://localhost:8080/",
          "height": 321
        },
        "outputId": "23b0a755-3eea-4ecf-fb78-edd249c464fc"
      },
      "source": [
        "predicted_classes2 = sport_model.predict(test_X)"
      ],
      "execution_count": null,
      "outputs": [
        {
          "output_type": "error",
          "ename": "ValueError",
          "evalue": "ignored",
          "traceback": [
            "\u001b[0;31m---------------------------------------------------------------------------\u001b[0m",
            "\u001b[0;31mValueError\u001b[0m                                Traceback (most recent call last)",
            "\u001b[0;32m<ipython-input-168-9b5d41fd9b8e>\u001b[0m in \u001b[0;36m<module>\u001b[0;34m()\u001b[0m\n\u001b[0;32m----> 1\u001b[0;31m \u001b[0mpredicted_classes2\u001b[0m \u001b[0;34m=\u001b[0m \u001b[0msport_model\u001b[0m\u001b[0;34m.\u001b[0m\u001b[0mpredict\u001b[0m\u001b[0;34m(\u001b[0m\u001b[0mtest_X\u001b[0m\u001b[0;34m)\u001b[0m\u001b[0;34m\u001b[0m\u001b[0;34m\u001b[0m\u001b[0m\n\u001b[0m",
            "\u001b[0;32m/usr/local/lib/python3.7/dist-packages/keras/engine/training.py\u001b[0m in \u001b[0;36mpredict\u001b[0;34m(self, x, batch_size, verbose, steps, callbacks, max_queue_size, workers, use_multiprocessing)\u001b[0m\n\u001b[1;32m   1728\u001b[0m           \u001b[0muse_multiprocessing\u001b[0m\u001b[0;34m=\u001b[0m\u001b[0muse_multiprocessing\u001b[0m\u001b[0;34m,\u001b[0m\u001b[0;34m\u001b[0m\u001b[0;34m\u001b[0m\u001b[0m\n\u001b[1;32m   1729\u001b[0m           \u001b[0mmodel\u001b[0m\u001b[0;34m=\u001b[0m\u001b[0mself\u001b[0m\u001b[0;34m,\u001b[0m\u001b[0;34m\u001b[0m\u001b[0;34m\u001b[0m\u001b[0m\n\u001b[0;32m-> 1730\u001b[0;31m           steps_per_execution=self._steps_per_execution)\n\u001b[0m\u001b[1;32m   1731\u001b[0m \u001b[0;34m\u001b[0m\u001b[0m\n\u001b[1;32m   1732\u001b[0m       \u001b[0;31m# Container that configures and calls `tf.keras.Callback`s.\u001b[0m\u001b[0;34m\u001b[0m\u001b[0;34m\u001b[0m\u001b[0;34m\u001b[0m\u001b[0m\n",
            "\u001b[0;32m/usr/local/lib/python3.7/dist-packages/keras/engine/data_adapter.py\u001b[0m in \u001b[0;36mget_data_handler\u001b[0;34m(*args, **kwargs)\u001b[0m\n\u001b[1;32m   1381\u001b[0m   \u001b[0;32mif\u001b[0m \u001b[0mgetattr\u001b[0m\u001b[0;34m(\u001b[0m\u001b[0mkwargs\u001b[0m\u001b[0;34m[\u001b[0m\u001b[0;34m\"model\"\u001b[0m\u001b[0;34m]\u001b[0m\u001b[0;34m,\u001b[0m \u001b[0;34m\"_cluster_coordinator\"\u001b[0m\u001b[0;34m,\u001b[0m \u001b[0;32mNone\u001b[0m\u001b[0;34m)\u001b[0m\u001b[0;34m:\u001b[0m\u001b[0;34m\u001b[0m\u001b[0;34m\u001b[0m\u001b[0m\n\u001b[1;32m   1382\u001b[0m     \u001b[0;32mreturn\u001b[0m \u001b[0m_ClusterCoordinatorDataHandler\u001b[0m\u001b[0;34m(\u001b[0m\u001b[0;34m*\u001b[0m\u001b[0margs\u001b[0m\u001b[0;34m,\u001b[0m \u001b[0;34m**\u001b[0m\u001b[0mkwargs\u001b[0m\u001b[0;34m)\u001b[0m\u001b[0;34m\u001b[0m\u001b[0;34m\u001b[0m\u001b[0m\n\u001b[0;32m-> 1383\u001b[0;31m   \u001b[0;32mreturn\u001b[0m \u001b[0mDataHandler\u001b[0m\u001b[0;34m(\u001b[0m\u001b[0;34m*\u001b[0m\u001b[0margs\u001b[0m\u001b[0;34m,\u001b[0m \u001b[0;34m**\u001b[0m\u001b[0mkwargs\u001b[0m\u001b[0;34m)\u001b[0m\u001b[0;34m\u001b[0m\u001b[0;34m\u001b[0m\u001b[0m\n\u001b[0m\u001b[1;32m   1384\u001b[0m \u001b[0;34m\u001b[0m\u001b[0m\n\u001b[1;32m   1385\u001b[0m \u001b[0;34m\u001b[0m\u001b[0m\n",
            "\u001b[0;32m/usr/local/lib/python3.7/dist-packages/keras/engine/data_adapter.py\u001b[0m in \u001b[0;36m__init__\u001b[0;34m(self, x, y, sample_weight, batch_size, steps_per_epoch, initial_epoch, epochs, shuffle, class_weight, max_queue_size, workers, use_multiprocessing, model, steps_per_execution, distribute)\u001b[0m\n\u001b[1;32m   1148\u001b[0m         \u001b[0muse_multiprocessing\u001b[0m\u001b[0;34m=\u001b[0m\u001b[0muse_multiprocessing\u001b[0m\u001b[0;34m,\u001b[0m\u001b[0;34m\u001b[0m\u001b[0;34m\u001b[0m\u001b[0m\n\u001b[1;32m   1149\u001b[0m         \u001b[0mdistribution_strategy\u001b[0m\u001b[0;34m=\u001b[0m\u001b[0mtf\u001b[0m\u001b[0;34m.\u001b[0m\u001b[0mdistribute\u001b[0m\u001b[0;34m.\u001b[0m\u001b[0mget_strategy\u001b[0m\u001b[0;34m(\u001b[0m\u001b[0;34m)\u001b[0m\u001b[0;34m,\u001b[0m\u001b[0;34m\u001b[0m\u001b[0;34m\u001b[0m\u001b[0m\n\u001b[0;32m-> 1150\u001b[0;31m         model=model)\n\u001b[0m\u001b[1;32m   1151\u001b[0m \u001b[0;34m\u001b[0m\u001b[0m\n\u001b[1;32m   1152\u001b[0m     \u001b[0mstrategy\u001b[0m \u001b[0;34m=\u001b[0m \u001b[0mtf\u001b[0m\u001b[0;34m.\u001b[0m\u001b[0mdistribute\u001b[0m\u001b[0;34m.\u001b[0m\u001b[0mget_strategy\u001b[0m\u001b[0;34m(\u001b[0m\u001b[0;34m)\u001b[0m\u001b[0;34m\u001b[0m\u001b[0;34m\u001b[0m\u001b[0m\n",
            "\u001b[0;32m/usr/local/lib/python3.7/dist-packages/keras/engine/data_adapter.py\u001b[0m in \u001b[0;36m__init__\u001b[0;34m(self, x, y, sample_weights, sample_weight_modes, batch_size, epochs, steps, shuffle, **kwargs)\u001b[0m\n\u001b[1;32m    228\u001b[0m                **kwargs):\n\u001b[1;32m    229\u001b[0m     \u001b[0msuper\u001b[0m\u001b[0;34m(\u001b[0m\u001b[0mTensorLikeDataAdapter\u001b[0m\u001b[0;34m,\u001b[0m \u001b[0mself\u001b[0m\u001b[0;34m)\u001b[0m\u001b[0;34m.\u001b[0m\u001b[0m__init__\u001b[0m\u001b[0;34m(\u001b[0m\u001b[0mx\u001b[0m\u001b[0;34m,\u001b[0m \u001b[0my\u001b[0m\u001b[0;34m,\u001b[0m \u001b[0;34m**\u001b[0m\u001b[0mkwargs\u001b[0m\u001b[0;34m)\u001b[0m\u001b[0;34m\u001b[0m\u001b[0;34m\u001b[0m\u001b[0m\n\u001b[0;32m--> 230\u001b[0;31m     \u001b[0mx\u001b[0m\u001b[0;34m,\u001b[0m \u001b[0my\u001b[0m\u001b[0;34m,\u001b[0m \u001b[0msample_weights\u001b[0m \u001b[0;34m=\u001b[0m \u001b[0m_process_tensorlike\u001b[0m\u001b[0;34m(\u001b[0m\u001b[0;34m(\u001b[0m\u001b[0mx\u001b[0m\u001b[0;34m,\u001b[0m \u001b[0my\u001b[0m\u001b[0;34m,\u001b[0m \u001b[0msample_weights\u001b[0m\u001b[0;34m)\u001b[0m\u001b[0;34m)\u001b[0m\u001b[0;34m\u001b[0m\u001b[0;34m\u001b[0m\u001b[0m\n\u001b[0m\u001b[1;32m    231\u001b[0m     sample_weight_modes = broadcast_sample_weight_modes(\n\u001b[1;32m    232\u001b[0m         sample_weights, sample_weight_modes)\n",
            "\u001b[0;32m/usr/local/lib/python3.7/dist-packages/keras/engine/data_adapter.py\u001b[0m in \u001b[0;36m_process_tensorlike\u001b[0;34m(inputs)\u001b[0m\n\u001b[1;32m   1029\u001b[0m     \u001b[0;32mreturn\u001b[0m \u001b[0mx\u001b[0m\u001b[0;34m\u001b[0m\u001b[0;34m\u001b[0m\u001b[0m\n\u001b[1;32m   1030\u001b[0m \u001b[0;34m\u001b[0m\u001b[0m\n\u001b[0;32m-> 1031\u001b[0;31m   \u001b[0minputs\u001b[0m \u001b[0;34m=\u001b[0m \u001b[0mtf\u001b[0m\u001b[0;34m.\u001b[0m\u001b[0mnest\u001b[0m\u001b[0;34m.\u001b[0m\u001b[0mmap_structure\u001b[0m\u001b[0;34m(\u001b[0m\u001b[0m_convert_numpy_and_scipy\u001b[0m\u001b[0;34m,\u001b[0m \u001b[0minputs\u001b[0m\u001b[0;34m)\u001b[0m\u001b[0;34m\u001b[0m\u001b[0;34m\u001b[0m\u001b[0m\n\u001b[0m\u001b[1;32m   1032\u001b[0m   \u001b[0;32mreturn\u001b[0m \u001b[0mtf\u001b[0m\u001b[0;34m.\u001b[0m\u001b[0m__internal__\u001b[0m\u001b[0;34m.\u001b[0m\u001b[0mnest\u001b[0m\u001b[0;34m.\u001b[0m\u001b[0mlist_to_tuple\u001b[0m\u001b[0;34m(\u001b[0m\u001b[0minputs\u001b[0m\u001b[0;34m)\u001b[0m\u001b[0;34m\u001b[0m\u001b[0;34m\u001b[0m\u001b[0m\n\u001b[1;32m   1033\u001b[0m \u001b[0;34m\u001b[0m\u001b[0m\n",
            "\u001b[0;32m/usr/local/lib/python3.7/dist-packages/tensorflow/python/util/nest.py\u001b[0m in \u001b[0;36mmap_structure\u001b[0;34m(func, *structure, **kwargs)\u001b[0m\n\u001b[1;32m    867\u001b[0m \u001b[0;34m\u001b[0m\u001b[0m\n\u001b[1;32m    868\u001b[0m   return pack_sequence_as(\n\u001b[0;32m--> 869\u001b[0;31m       \u001b[0mstructure\u001b[0m\u001b[0;34m[\u001b[0m\u001b[0;36m0\u001b[0m\u001b[0;34m]\u001b[0m\u001b[0;34m,\u001b[0m \u001b[0;34m[\u001b[0m\u001b[0mfunc\u001b[0m\u001b[0;34m(\u001b[0m\u001b[0;34m*\u001b[0m\u001b[0mx\u001b[0m\u001b[0;34m)\u001b[0m \u001b[0;32mfor\u001b[0m \u001b[0mx\u001b[0m \u001b[0;32min\u001b[0m \u001b[0mentries\u001b[0m\u001b[0;34m]\u001b[0m\u001b[0;34m,\u001b[0m\u001b[0;34m\u001b[0m\u001b[0;34m\u001b[0m\u001b[0m\n\u001b[0m\u001b[1;32m    870\u001b[0m       expand_composites=expand_composites)\n\u001b[1;32m    871\u001b[0m \u001b[0;34m\u001b[0m\u001b[0m\n",
            "\u001b[0;32m/usr/local/lib/python3.7/dist-packages/tensorflow/python/util/nest.py\u001b[0m in \u001b[0;36m<listcomp>\u001b[0;34m(.0)\u001b[0m\n\u001b[1;32m    867\u001b[0m \u001b[0;34m\u001b[0m\u001b[0m\n\u001b[1;32m    868\u001b[0m   return pack_sequence_as(\n\u001b[0;32m--> 869\u001b[0;31m       \u001b[0mstructure\u001b[0m\u001b[0;34m[\u001b[0m\u001b[0;36m0\u001b[0m\u001b[0;34m]\u001b[0m\u001b[0;34m,\u001b[0m \u001b[0;34m[\u001b[0m\u001b[0mfunc\u001b[0m\u001b[0;34m(\u001b[0m\u001b[0;34m*\u001b[0m\u001b[0mx\u001b[0m\u001b[0;34m)\u001b[0m \u001b[0;32mfor\u001b[0m \u001b[0mx\u001b[0m \u001b[0;32min\u001b[0m \u001b[0mentries\u001b[0m\u001b[0;34m]\u001b[0m\u001b[0;34m,\u001b[0m\u001b[0;34m\u001b[0m\u001b[0;34m\u001b[0m\u001b[0m\n\u001b[0m\u001b[1;32m    870\u001b[0m       expand_composites=expand_composites)\n\u001b[1;32m    871\u001b[0m \u001b[0;34m\u001b[0m\u001b[0m\n",
            "\u001b[0;32m/usr/local/lib/python3.7/dist-packages/keras/engine/data_adapter.py\u001b[0m in \u001b[0;36m_convert_numpy_and_scipy\u001b[0;34m(x)\u001b[0m\n\u001b[1;32m   1024\u001b[0m       \u001b[0;32mif\u001b[0m \u001b[0missubclass\u001b[0m\u001b[0;34m(\u001b[0m\u001b[0mx\u001b[0m\u001b[0;34m.\u001b[0m\u001b[0mdtype\u001b[0m\u001b[0;34m.\u001b[0m\u001b[0mtype\u001b[0m\u001b[0;34m,\u001b[0m \u001b[0mnp\u001b[0m\u001b[0;34m.\u001b[0m\u001b[0mfloating\u001b[0m\u001b[0;34m)\u001b[0m\u001b[0;34m:\u001b[0m\u001b[0;34m\u001b[0m\u001b[0;34m\u001b[0m\u001b[0m\n\u001b[1;32m   1025\u001b[0m         \u001b[0mdtype\u001b[0m \u001b[0;34m=\u001b[0m \u001b[0mbackend\u001b[0m\u001b[0;34m.\u001b[0m\u001b[0mfloatx\u001b[0m\u001b[0;34m(\u001b[0m\u001b[0;34m)\u001b[0m\u001b[0;34m\u001b[0m\u001b[0;34m\u001b[0m\u001b[0m\n\u001b[0;32m-> 1026\u001b[0;31m       \u001b[0;32mreturn\u001b[0m \u001b[0mtf\u001b[0m\u001b[0;34m.\u001b[0m\u001b[0mconvert_to_tensor\u001b[0m\u001b[0;34m(\u001b[0m\u001b[0mx\u001b[0m\u001b[0;34m,\u001b[0m \u001b[0mdtype\u001b[0m\u001b[0;34m=\u001b[0m\u001b[0mdtype\u001b[0m\u001b[0;34m)\u001b[0m\u001b[0;34m\u001b[0m\u001b[0;34m\u001b[0m\u001b[0m\n\u001b[0m\u001b[1;32m   1027\u001b[0m     \u001b[0;32melif\u001b[0m \u001b[0m_is_scipy_sparse\u001b[0m\u001b[0;34m(\u001b[0m\u001b[0mx\u001b[0m\u001b[0;34m)\u001b[0m\u001b[0;34m:\u001b[0m\u001b[0;34m\u001b[0m\u001b[0;34m\u001b[0m\u001b[0m\n\u001b[1;32m   1028\u001b[0m       \u001b[0;32mreturn\u001b[0m \u001b[0m_scipy_sparse_to_sparse_tensor\u001b[0m\u001b[0;34m(\u001b[0m\u001b[0mx\u001b[0m\u001b[0;34m)\u001b[0m\u001b[0;34m\u001b[0m\u001b[0;34m\u001b[0m\u001b[0m\n",
            "\u001b[0;32m/usr/local/lib/python3.7/dist-packages/tensorflow/python/util/dispatch.py\u001b[0m in \u001b[0;36mwrapper\u001b[0;34m(*args, **kwargs)\u001b[0m\n\u001b[1;32m    204\u001b[0m     \u001b[0;34m\"\"\"Call target, and fall back on dispatchers if there is a TypeError.\"\"\"\u001b[0m\u001b[0;34m\u001b[0m\u001b[0;34m\u001b[0m\u001b[0m\n\u001b[1;32m    205\u001b[0m     \u001b[0;32mtry\u001b[0m\u001b[0;34m:\u001b[0m\u001b[0;34m\u001b[0m\u001b[0;34m\u001b[0m\u001b[0m\n\u001b[0;32m--> 206\u001b[0;31m       \u001b[0;32mreturn\u001b[0m \u001b[0mtarget\u001b[0m\u001b[0;34m(\u001b[0m\u001b[0;34m*\u001b[0m\u001b[0margs\u001b[0m\u001b[0;34m,\u001b[0m \u001b[0;34m**\u001b[0m\u001b[0mkwargs\u001b[0m\u001b[0;34m)\u001b[0m\u001b[0;34m\u001b[0m\u001b[0;34m\u001b[0m\u001b[0m\n\u001b[0m\u001b[1;32m    207\u001b[0m     \u001b[0;32mexcept\u001b[0m \u001b[0;34m(\u001b[0m\u001b[0mTypeError\u001b[0m\u001b[0;34m,\u001b[0m \u001b[0mValueError\u001b[0m\u001b[0;34m)\u001b[0m\u001b[0;34m:\u001b[0m\u001b[0;34m\u001b[0m\u001b[0;34m\u001b[0m\u001b[0m\n\u001b[1;32m    208\u001b[0m       \u001b[0;31m# Note: convert_to_eager_tensor currently raises a ValueError, not a\u001b[0m\u001b[0;34m\u001b[0m\u001b[0;34m\u001b[0m\u001b[0;34m\u001b[0m\u001b[0m\n",
            "\u001b[0;32m/usr/local/lib/python3.7/dist-packages/tensorflow/python/framework/ops.py\u001b[0m in \u001b[0;36mconvert_to_tensor_v2_with_dispatch\u001b[0;34m(value, dtype, dtype_hint, name)\u001b[0m\n\u001b[1;32m   1429\u001b[0m   \"\"\"\n\u001b[1;32m   1430\u001b[0m   return convert_to_tensor_v2(\n\u001b[0;32m-> 1431\u001b[0;31m       value, dtype=dtype, dtype_hint=dtype_hint, name=name)\n\u001b[0m\u001b[1;32m   1432\u001b[0m \u001b[0;34m\u001b[0m\u001b[0m\n\u001b[1;32m   1433\u001b[0m \u001b[0;34m\u001b[0m\u001b[0m\n",
            "\u001b[0;32m/usr/local/lib/python3.7/dist-packages/tensorflow/python/framework/ops.py\u001b[0m in \u001b[0;36mconvert_to_tensor_v2\u001b[0;34m(value, dtype, dtype_hint, name)\u001b[0m\n\u001b[1;32m   1439\u001b[0m       \u001b[0mname\u001b[0m\u001b[0;34m=\u001b[0m\u001b[0mname\u001b[0m\u001b[0;34m,\u001b[0m\u001b[0;34m\u001b[0m\u001b[0;34m\u001b[0m\u001b[0m\n\u001b[1;32m   1440\u001b[0m       \u001b[0mpreferred_dtype\u001b[0m\u001b[0;34m=\u001b[0m\u001b[0mdtype_hint\u001b[0m\u001b[0;34m,\u001b[0m\u001b[0;34m\u001b[0m\u001b[0;34m\u001b[0m\u001b[0m\n\u001b[0;32m-> 1441\u001b[0;31m       as_ref=False)\n\u001b[0m\u001b[1;32m   1442\u001b[0m \u001b[0;34m\u001b[0m\u001b[0m\n\u001b[1;32m   1443\u001b[0m \u001b[0;34m\u001b[0m\u001b[0m\n",
            "\u001b[0;32m/usr/local/lib/python3.7/dist-packages/tensorflow/python/profiler/trace.py\u001b[0m in \u001b[0;36mwrapped\u001b[0;34m(*args, **kwargs)\u001b[0m\n\u001b[1;32m    161\u001b[0m         \u001b[0;32mwith\u001b[0m \u001b[0mTrace\u001b[0m\u001b[0;34m(\u001b[0m\u001b[0mtrace_name\u001b[0m\u001b[0;34m,\u001b[0m \u001b[0;34m**\u001b[0m\u001b[0mtrace_kwargs\u001b[0m\u001b[0;34m)\u001b[0m\u001b[0;34m:\u001b[0m\u001b[0;34m\u001b[0m\u001b[0;34m\u001b[0m\u001b[0m\n\u001b[1;32m    162\u001b[0m           \u001b[0;32mreturn\u001b[0m \u001b[0mfunc\u001b[0m\u001b[0;34m(\u001b[0m\u001b[0;34m*\u001b[0m\u001b[0margs\u001b[0m\u001b[0;34m,\u001b[0m \u001b[0;34m**\u001b[0m\u001b[0mkwargs\u001b[0m\u001b[0;34m)\u001b[0m\u001b[0;34m\u001b[0m\u001b[0;34m\u001b[0m\u001b[0m\n\u001b[0;32m--> 163\u001b[0;31m       \u001b[0;32mreturn\u001b[0m \u001b[0mfunc\u001b[0m\u001b[0;34m(\u001b[0m\u001b[0;34m*\u001b[0m\u001b[0margs\u001b[0m\u001b[0;34m,\u001b[0m \u001b[0;34m**\u001b[0m\u001b[0mkwargs\u001b[0m\u001b[0;34m)\u001b[0m\u001b[0;34m\u001b[0m\u001b[0;34m\u001b[0m\u001b[0m\n\u001b[0m\u001b[1;32m    164\u001b[0m \u001b[0;34m\u001b[0m\u001b[0m\n\u001b[1;32m    165\u001b[0m     \u001b[0;32mreturn\u001b[0m \u001b[0mwrapped\u001b[0m\u001b[0;34m\u001b[0m\u001b[0;34m\u001b[0m\u001b[0m\n",
            "\u001b[0;32m/usr/local/lib/python3.7/dist-packages/tensorflow/python/framework/ops.py\u001b[0m in \u001b[0;36mconvert_to_tensor\u001b[0;34m(value, dtype, name, as_ref, preferred_dtype, dtype_hint, ctx, accepted_result_types)\u001b[0m\n\u001b[1;32m   1564\u001b[0m \u001b[0;34m\u001b[0m\u001b[0m\n\u001b[1;32m   1565\u001b[0m     \u001b[0;32mif\u001b[0m \u001b[0mret\u001b[0m \u001b[0;32mis\u001b[0m \u001b[0;32mNone\u001b[0m\u001b[0;34m:\u001b[0m\u001b[0;34m\u001b[0m\u001b[0;34m\u001b[0m\u001b[0m\n\u001b[0;32m-> 1566\u001b[0;31m       \u001b[0mret\u001b[0m \u001b[0;34m=\u001b[0m \u001b[0mconversion_func\u001b[0m\u001b[0;34m(\u001b[0m\u001b[0mvalue\u001b[0m\u001b[0;34m,\u001b[0m \u001b[0mdtype\u001b[0m\u001b[0;34m=\u001b[0m\u001b[0mdtype\u001b[0m\u001b[0;34m,\u001b[0m \u001b[0mname\u001b[0m\u001b[0;34m=\u001b[0m\u001b[0mname\u001b[0m\u001b[0;34m,\u001b[0m \u001b[0mas_ref\u001b[0m\u001b[0;34m=\u001b[0m\u001b[0mas_ref\u001b[0m\u001b[0;34m)\u001b[0m\u001b[0;34m\u001b[0m\u001b[0;34m\u001b[0m\u001b[0m\n\u001b[0m\u001b[1;32m   1567\u001b[0m \u001b[0;34m\u001b[0m\u001b[0m\n\u001b[1;32m   1568\u001b[0m     \u001b[0;32mif\u001b[0m \u001b[0mret\u001b[0m \u001b[0;32mis\u001b[0m \u001b[0mNotImplemented\u001b[0m\u001b[0;34m:\u001b[0m\u001b[0;34m\u001b[0m\u001b[0;34m\u001b[0m\u001b[0m\n",
            "\u001b[0;32m/usr/local/lib/python3.7/dist-packages/tensorflow/python/framework/tensor_conversion_registry.py\u001b[0m in \u001b[0;36m_default_conversion_function\u001b[0;34m(***failed resolving arguments***)\u001b[0m\n\u001b[1;32m     50\u001b[0m \u001b[0;32mdef\u001b[0m \u001b[0m_default_conversion_function\u001b[0m\u001b[0;34m(\u001b[0m\u001b[0mvalue\u001b[0m\u001b[0;34m,\u001b[0m \u001b[0mdtype\u001b[0m\u001b[0;34m,\u001b[0m \u001b[0mname\u001b[0m\u001b[0;34m,\u001b[0m \u001b[0mas_ref\u001b[0m\u001b[0;34m)\u001b[0m\u001b[0;34m:\u001b[0m\u001b[0;34m\u001b[0m\u001b[0;34m\u001b[0m\u001b[0m\n\u001b[1;32m     51\u001b[0m   \u001b[0;32mdel\u001b[0m \u001b[0mas_ref\u001b[0m  \u001b[0;31m# Unused.\u001b[0m\u001b[0;34m\u001b[0m\u001b[0;34m\u001b[0m\u001b[0m\n\u001b[0;32m---> 52\u001b[0;31m   \u001b[0;32mreturn\u001b[0m \u001b[0mconstant_op\u001b[0m\u001b[0;34m.\u001b[0m\u001b[0mconstant\u001b[0m\u001b[0;34m(\u001b[0m\u001b[0mvalue\u001b[0m\u001b[0;34m,\u001b[0m \u001b[0mdtype\u001b[0m\u001b[0;34m,\u001b[0m \u001b[0mname\u001b[0m\u001b[0;34m=\u001b[0m\u001b[0mname\u001b[0m\u001b[0;34m)\u001b[0m\u001b[0;34m\u001b[0m\u001b[0;34m\u001b[0m\u001b[0m\n\u001b[0m\u001b[1;32m     53\u001b[0m \u001b[0;34m\u001b[0m\u001b[0m\n\u001b[1;32m     54\u001b[0m \u001b[0;34m\u001b[0m\u001b[0m\n",
            "\u001b[0;32m/usr/local/lib/python3.7/dist-packages/tensorflow/python/framework/constant_op.py\u001b[0m in \u001b[0;36mconstant\u001b[0;34m(value, dtype, shape, name)\u001b[0m\n\u001b[1;32m    270\u001b[0m   \"\"\"\n\u001b[1;32m    271\u001b[0m   return _constant_impl(value, dtype, shape, name, verify_shape=False,\n\u001b[0;32m--> 272\u001b[0;31m                         allow_broadcast=True)\n\u001b[0m\u001b[1;32m    273\u001b[0m \u001b[0;34m\u001b[0m\u001b[0m\n\u001b[1;32m    274\u001b[0m \u001b[0;34m\u001b[0m\u001b[0m\n",
            "\u001b[0;32m/usr/local/lib/python3.7/dist-packages/tensorflow/python/framework/constant_op.py\u001b[0m in \u001b[0;36m_constant_impl\u001b[0;34m(value, dtype, shape, name, verify_shape, allow_broadcast)\u001b[0m\n\u001b[1;32m    281\u001b[0m       \u001b[0;32mwith\u001b[0m \u001b[0mtrace\u001b[0m\u001b[0;34m.\u001b[0m\u001b[0mTrace\u001b[0m\u001b[0;34m(\u001b[0m\u001b[0;34m\"tf.constant\"\u001b[0m\u001b[0;34m)\u001b[0m\u001b[0;34m:\u001b[0m\u001b[0;34m\u001b[0m\u001b[0;34m\u001b[0m\u001b[0m\n\u001b[1;32m    282\u001b[0m         \u001b[0;32mreturn\u001b[0m \u001b[0m_constant_eager_impl\u001b[0m\u001b[0;34m(\u001b[0m\u001b[0mctx\u001b[0m\u001b[0;34m,\u001b[0m \u001b[0mvalue\u001b[0m\u001b[0;34m,\u001b[0m \u001b[0mdtype\u001b[0m\u001b[0;34m,\u001b[0m \u001b[0mshape\u001b[0m\u001b[0;34m,\u001b[0m \u001b[0mverify_shape\u001b[0m\u001b[0;34m)\u001b[0m\u001b[0;34m\u001b[0m\u001b[0;34m\u001b[0m\u001b[0m\n\u001b[0;32m--> 283\u001b[0;31m     \u001b[0;32mreturn\u001b[0m \u001b[0m_constant_eager_impl\u001b[0m\u001b[0;34m(\u001b[0m\u001b[0mctx\u001b[0m\u001b[0;34m,\u001b[0m \u001b[0mvalue\u001b[0m\u001b[0;34m,\u001b[0m \u001b[0mdtype\u001b[0m\u001b[0;34m,\u001b[0m \u001b[0mshape\u001b[0m\u001b[0;34m,\u001b[0m \u001b[0mverify_shape\u001b[0m\u001b[0;34m)\u001b[0m\u001b[0;34m\u001b[0m\u001b[0;34m\u001b[0m\u001b[0m\n\u001b[0m\u001b[1;32m    284\u001b[0m \u001b[0;34m\u001b[0m\u001b[0m\n\u001b[1;32m    285\u001b[0m   \u001b[0mg\u001b[0m \u001b[0;34m=\u001b[0m \u001b[0mops\u001b[0m\u001b[0;34m.\u001b[0m\u001b[0mget_default_graph\u001b[0m\u001b[0;34m(\u001b[0m\u001b[0;34m)\u001b[0m\u001b[0;34m\u001b[0m\u001b[0;34m\u001b[0m\u001b[0m\n",
            "\u001b[0;32m/usr/local/lib/python3.7/dist-packages/tensorflow/python/framework/constant_op.py\u001b[0m in \u001b[0;36m_constant_eager_impl\u001b[0;34m(ctx, value, dtype, shape, verify_shape)\u001b[0m\n\u001b[1;32m    306\u001b[0m \u001b[0;32mdef\u001b[0m \u001b[0m_constant_eager_impl\u001b[0m\u001b[0;34m(\u001b[0m\u001b[0mctx\u001b[0m\u001b[0;34m,\u001b[0m \u001b[0mvalue\u001b[0m\u001b[0;34m,\u001b[0m \u001b[0mdtype\u001b[0m\u001b[0;34m,\u001b[0m \u001b[0mshape\u001b[0m\u001b[0;34m,\u001b[0m \u001b[0mverify_shape\u001b[0m\u001b[0;34m)\u001b[0m\u001b[0;34m:\u001b[0m\u001b[0;34m\u001b[0m\u001b[0;34m\u001b[0m\u001b[0m\n\u001b[1;32m    307\u001b[0m   \u001b[0;34m\"\"\"Creates a constant on the current device.\"\"\"\u001b[0m\u001b[0;34m\u001b[0m\u001b[0;34m\u001b[0m\u001b[0m\n\u001b[0;32m--> 308\u001b[0;31m   \u001b[0mt\u001b[0m \u001b[0;34m=\u001b[0m \u001b[0mconvert_to_eager_tensor\u001b[0m\u001b[0;34m(\u001b[0m\u001b[0mvalue\u001b[0m\u001b[0;34m,\u001b[0m \u001b[0mctx\u001b[0m\u001b[0;34m,\u001b[0m \u001b[0mdtype\u001b[0m\u001b[0;34m)\u001b[0m\u001b[0;34m\u001b[0m\u001b[0;34m\u001b[0m\u001b[0m\n\u001b[0m\u001b[1;32m    309\u001b[0m   \u001b[0;32mif\u001b[0m \u001b[0mshape\u001b[0m \u001b[0;32mis\u001b[0m \u001b[0;32mNone\u001b[0m\u001b[0;34m:\u001b[0m\u001b[0;34m\u001b[0m\u001b[0;34m\u001b[0m\u001b[0m\n\u001b[1;32m    310\u001b[0m     \u001b[0;32mreturn\u001b[0m \u001b[0mt\u001b[0m\u001b[0;34m\u001b[0m\u001b[0;34m\u001b[0m\u001b[0m\n",
            "\u001b[0;32m/usr/local/lib/python3.7/dist-packages/tensorflow/python/framework/constant_op.py\u001b[0m in \u001b[0;36mconvert_to_eager_tensor\u001b[0;34m(value, ctx, dtype)\u001b[0m\n\u001b[1;32m    104\u001b[0m       \u001b[0mdtype\u001b[0m \u001b[0;34m=\u001b[0m \u001b[0mdtypes\u001b[0m\u001b[0;34m.\u001b[0m\u001b[0mas_dtype\u001b[0m\u001b[0;34m(\u001b[0m\u001b[0mdtype\u001b[0m\u001b[0;34m)\u001b[0m\u001b[0;34m.\u001b[0m\u001b[0mas_datatype_enum\u001b[0m\u001b[0;34m\u001b[0m\u001b[0;34m\u001b[0m\u001b[0m\n\u001b[1;32m    105\u001b[0m   \u001b[0mctx\u001b[0m\u001b[0;34m.\u001b[0m\u001b[0mensure_initialized\u001b[0m\u001b[0;34m(\u001b[0m\u001b[0;34m)\u001b[0m\u001b[0;34m\u001b[0m\u001b[0;34m\u001b[0m\u001b[0m\n\u001b[0;32m--> 106\u001b[0;31m   \u001b[0;32mreturn\u001b[0m \u001b[0mops\u001b[0m\u001b[0;34m.\u001b[0m\u001b[0mEagerTensor\u001b[0m\u001b[0;34m(\u001b[0m\u001b[0mvalue\u001b[0m\u001b[0;34m,\u001b[0m \u001b[0mctx\u001b[0m\u001b[0;34m.\u001b[0m\u001b[0mdevice_name\u001b[0m\u001b[0;34m,\u001b[0m \u001b[0mdtype\u001b[0m\u001b[0;34m)\u001b[0m\u001b[0;34m\u001b[0m\u001b[0;34m\u001b[0m\u001b[0m\n\u001b[0m\u001b[1;32m    107\u001b[0m \u001b[0;34m\u001b[0m\u001b[0m\n\u001b[1;32m    108\u001b[0m \u001b[0;34m\u001b[0m\u001b[0m\n",
            "\u001b[0;31mValueError\u001b[0m: Failed to convert a NumPy array to a Tensor (Unsupported object type numpy.ndarray)."
          ]
        }
      ]
    },
    {
      "cell_type": "code",
      "metadata": {
        "id": "ICS78h8dasTw",
        "colab": {
          "base_uri": "https://localhost:8080/",
          "height": 226
        },
        "outputId": "a04ef11c-c418-4207-c94b-f40302ba26a9"
      },
      "source": [
        "predicted_classes=[]\n",
        "for predicted_sport in predicted_classes2:\n",
        "    predicted_classes.append(predicted_sport.tolist().index(max(predicted_sport)))\n",
        "predicted_classes=np.array(predicted_classes)"
      ],
      "execution_count": null,
      "outputs": [
        {
          "output_type": "error",
          "ename": "NameError",
          "evalue": "ignored",
          "traceback": [
            "\u001b[0;31m---------------------------------------------------------------------------\u001b[0m",
            "\u001b[0;31mNameError\u001b[0m                                 Traceback (most recent call last)",
            "\u001b[0;32m<ipython-input-167-661960548184>\u001b[0m in \u001b[0;36m<module>\u001b[0;34m()\u001b[0m\n\u001b[1;32m      1\u001b[0m \u001b[0mpredicted_classes\u001b[0m\u001b[0;34m=\u001b[0m\u001b[0;34m[\u001b[0m\u001b[0;34m]\u001b[0m\u001b[0;34m\u001b[0m\u001b[0;34m\u001b[0m\u001b[0m\n\u001b[0;32m----> 2\u001b[0;31m \u001b[0;32mfor\u001b[0m \u001b[0mpredicted_sport\u001b[0m \u001b[0;32min\u001b[0m \u001b[0mpredicted_classes2\u001b[0m\u001b[0;34m:\u001b[0m\u001b[0;34m\u001b[0m\u001b[0;34m\u001b[0m\u001b[0m\n\u001b[0m\u001b[1;32m      3\u001b[0m     \u001b[0mpredicted_classes\u001b[0m\u001b[0;34m.\u001b[0m\u001b[0mappend\u001b[0m\u001b[0;34m(\u001b[0m\u001b[0mpredicted_sport\u001b[0m\u001b[0;34m.\u001b[0m\u001b[0mtolist\u001b[0m\u001b[0;34m(\u001b[0m\u001b[0;34m)\u001b[0m\u001b[0;34m.\u001b[0m\u001b[0mindex\u001b[0m\u001b[0;34m(\u001b[0m\u001b[0mmax\u001b[0m\u001b[0;34m(\u001b[0m\u001b[0mpredicted_sport\u001b[0m\u001b[0;34m)\u001b[0m\u001b[0;34m)\u001b[0m\u001b[0;34m)\u001b[0m\u001b[0;34m\u001b[0m\u001b[0;34m\u001b[0m\u001b[0m\n\u001b[1;32m      4\u001b[0m \u001b[0mpredicted_classes\u001b[0m\u001b[0;34m=\u001b[0m\u001b[0mnp\u001b[0m\u001b[0;34m.\u001b[0m\u001b[0marray\u001b[0m\u001b[0;34m(\u001b[0m\u001b[0mpredicted_classes\u001b[0m\u001b[0;34m)\u001b[0m\u001b[0;34m\u001b[0m\u001b[0;34m\u001b[0m\u001b[0m\n",
            "\u001b[0;31mNameError\u001b[0m: name 'predicted_classes2' is not defined"
          ]
        }
      ]
    },
    {
      "cell_type": "code",
      "metadata": {
        "id": "ucWjHi4qavTh",
        "colab": {
          "base_uri": "https://localhost:8080/",
          "height": 172
        },
        "outputId": "6666a5d4-6751-47da-a13b-60a7ad16cfc6"
      },
      "source": [
        "predicted_classes.shape, test_Y.shape\n"
      ],
      "execution_count": null,
      "outputs": [
        {
          "output_type": "error",
          "ename": "AttributeError",
          "evalue": "ignored",
          "traceback": [
            "\u001b[0;31m---------------------------------------------------------------------------\u001b[0m",
            "\u001b[0;31mAttributeError\u001b[0m                            Traceback (most recent call last)",
            "\u001b[0;32m<ipython-input-79-75bdd47fccc7>\u001b[0m in \u001b[0;36m<module>\u001b[0;34m()\u001b[0m\n\u001b[0;32m----> 1\u001b[0;31m \u001b[0mpredicted_classes\u001b[0m\u001b[0;34m.\u001b[0m\u001b[0mshape\u001b[0m\u001b[0;34m,\u001b[0m \u001b[0mtest_Y\u001b[0m\u001b[0;34m.\u001b[0m\u001b[0mshape\u001b[0m\u001b[0;34m\u001b[0m\u001b[0;34m\u001b[0m\u001b[0m\n\u001b[0m",
            "\u001b[0;31mAttributeError\u001b[0m: 'list' object has no attribute 'shape'"
          ]
        }
      ]
    },
    {
      "cell_type": "markdown",
      "metadata": {
        "id": "8LIuGAibi-M2"
      },
      "source": [
        "# Aprendamos de los errores: Qué mejorar"
      ]
    },
    {
      "cell_type": "code",
      "metadata": {
        "colab": {
          "base_uri": "https://localhost:8080/"
        },
        "id": "sKWcIsekjBtP",
        "outputId": "681b34f2-9a3a-4c57-c3a3-f11a87df7724"
      },
      "source": [
        "correct = np.where(predicted_classes==test_Y)[0]\n",
        "print(\"Found %d correct labels\" % len(correct))\n",
        "for i, correct in enumerate(correct[0:9]):\n",
        "    plt.subplot(3,3,i+1)\n",
        "    plt.imshow(test_X[correct].reshape(21,28,3), cmap='gray', interpolation='none')\n",
        "    plt.title(\"{}, {}\".format(deportes[predicted_classes[correct]],\n",
        "                                                    deportes[test_Y[correct]]))\n",
        "\n",
        "    plt.tight_layout()"
      ],
      "execution_count": null,
      "outputs": [
        {
          "output_type": "stream",
          "name": "stdout",
          "text": [
            "Found 0 correct labels\n"
          ]
        },
        {
          "output_type": "stream",
          "name": "stderr",
          "text": [
            "/usr/local/lib/python3.7/dist-packages/ipykernel_launcher.py:1: DeprecationWarning: elementwise comparison failed; this will raise an error in the future.\n",
            "  \"\"\"Entry point for launching an IPython kernel.\n"
          ]
        }
      ]
    },
    {
      "cell_type": "code",
      "metadata": {
        "id": "tGk33zYEjOvc",
        "colab": {
          "base_uri": "https://localhost:8080/",
          "height": 416
        },
        "outputId": "90d73e94-243b-4a7c-8d51-d8776c5b492e"
      },
      "source": [
        "incorrect = np.where(predicted_classes!=test_Y)[0]\n",
        "print(\"Found %d incorrect labels\" % len(incorrect))\n",
        "for i, incorrect in enumerate(incorrect[0:9]):\n",
        "    plt.subplot(3,3,i+1)\n",
        "    plt.imshow(test_X[incorrect].reshape(21,28,3), cmap='gray', interpolation='none')\n",
        "    plt.title(\"{}, {}\".format(deportes[predicted_classes[incorrect]],\n",
        "                                                    deportes[test_Y[incorrect]]))\n",
        "    plt.tight_layout()\n",
        "\n"
      ],
      "execution_count": null,
      "outputs": [
        {
          "output_type": "stream",
          "name": "stdout",
          "text": [
            "Found 1 incorrect labels\n"
          ]
        },
        {
          "output_type": "stream",
          "name": "stderr",
          "text": [
            "/usr/local/lib/python3.7/dist-packages/ipykernel_launcher.py:1: DeprecationWarning: elementwise comparison failed; this will raise an error in the future.\n",
            "  \"\"\"Entry point for launching an IPython kernel.\n"
          ]
        },
        {
          "output_type": "error",
          "ename": "ValueError",
          "evalue": "ignored",
          "traceback": [
            "\u001b[0;31m---------------------------------------------------------------------------\u001b[0m",
            "\u001b[0;31mValueError\u001b[0m                                Traceback (most recent call last)",
            "\u001b[0;32m<ipython-input-170-136d51c76b21>\u001b[0m in \u001b[0;36m<module>\u001b[0;34m()\u001b[0m\n\u001b[1;32m      3\u001b[0m \u001b[0;32mfor\u001b[0m \u001b[0mi\u001b[0m\u001b[0;34m,\u001b[0m \u001b[0mincorrect\u001b[0m \u001b[0;32min\u001b[0m \u001b[0menumerate\u001b[0m\u001b[0;34m(\u001b[0m\u001b[0mincorrect\u001b[0m\u001b[0;34m[\u001b[0m\u001b[0;36m0\u001b[0m\u001b[0;34m:\u001b[0m\u001b[0;36m9\u001b[0m\u001b[0;34m]\u001b[0m\u001b[0;34m)\u001b[0m\u001b[0;34m:\u001b[0m\u001b[0;34m\u001b[0m\u001b[0;34m\u001b[0m\u001b[0m\n\u001b[1;32m      4\u001b[0m     \u001b[0mplt\u001b[0m\u001b[0;34m.\u001b[0m\u001b[0msubplot\u001b[0m\u001b[0;34m(\u001b[0m\u001b[0;36m3\u001b[0m\u001b[0;34m,\u001b[0m\u001b[0;36m3\u001b[0m\u001b[0;34m,\u001b[0m\u001b[0mi\u001b[0m\u001b[0;34m+\u001b[0m\u001b[0;36m1\u001b[0m\u001b[0;34m)\u001b[0m\u001b[0;34m\u001b[0m\u001b[0;34m\u001b[0m\u001b[0m\n\u001b[0;32m----> 5\u001b[0;31m     \u001b[0mplt\u001b[0m\u001b[0;34m.\u001b[0m\u001b[0mimshow\u001b[0m\u001b[0;34m(\u001b[0m\u001b[0mtest_X\u001b[0m\u001b[0;34m[\u001b[0m\u001b[0mincorrect\u001b[0m\u001b[0;34m]\u001b[0m\u001b[0;34m.\u001b[0m\u001b[0mreshape\u001b[0m\u001b[0;34m(\u001b[0m\u001b[0;36m21\u001b[0m\u001b[0;34m,\u001b[0m\u001b[0;36m28\u001b[0m\u001b[0;34m,\u001b[0m\u001b[0;36m3\u001b[0m\u001b[0;34m)\u001b[0m\u001b[0;34m,\u001b[0m \u001b[0mcmap\u001b[0m\u001b[0;34m=\u001b[0m\u001b[0;34m'gray'\u001b[0m\u001b[0;34m,\u001b[0m \u001b[0minterpolation\u001b[0m\u001b[0;34m=\u001b[0m\u001b[0;34m'none'\u001b[0m\u001b[0;34m)\u001b[0m\u001b[0;34m\u001b[0m\u001b[0;34m\u001b[0m\u001b[0m\n\u001b[0m\u001b[1;32m      6\u001b[0m     plt.title(\"{}, {}\".format(deportes[predicted_classes[incorrect]],\n\u001b[1;32m      7\u001b[0m                                                     deportes[test_Y[incorrect]]))\n",
            "\u001b[0;31mValueError\u001b[0m: cannot reshape array of size 2764800 into shape (21,28,3)"
          ]
        },
        {
          "output_type": "display_data",
          "data": {
            "image/png": "[encoded data removed]",
            "text/plain": [
              "<Figure size 432x288 with 1 Axes>"
            ]
          },
          "metadata": {
            "needs_background": "light"
          }
        }
      ]
    },
    {
      "cell_type": "code",
      "metadata": {
        "colab": {
          "base_uri": "https://localhost:8080/",
          "height": 339
        },
        "id": "LmOqX0dMjRyP",
        "outputId": "ff37deb2-36e1-423a-af30-e1072882947e"
      },
      "source": [
        "target_names = [\"Class {}\".format(i) for i in range(nClasses)]\n",
        "print(classification_report(test_Y, predicted_classes, target_names=target_names))\n"
      ],
      "execution_count": null,
      "outputs": [
        {
          "output_type": "error",
          "ename": "ValueError",
          "evalue": "ignored",
          "traceback": [
            "\u001b[0;31m---------------------------------------------------------------------------\u001b[0m",
            "\u001b[0;31mValueError\u001b[0m                                Traceback (most recent call last)",
            "\u001b[0;32m<ipython-input-171-9fc46938c5f2>\u001b[0m in \u001b[0;36m<module>\u001b[0;34m()\u001b[0m\n\u001b[1;32m      1\u001b[0m \u001b[0mtarget_names\u001b[0m \u001b[0;34m=\u001b[0m \u001b[0;34m[\u001b[0m\u001b[0;34m\"Class {}\"\u001b[0m\u001b[0;34m.\u001b[0m\u001b[0mformat\u001b[0m\u001b[0;34m(\u001b[0m\u001b[0mi\u001b[0m\u001b[0;34m)\u001b[0m \u001b[0;32mfor\u001b[0m \u001b[0mi\u001b[0m \u001b[0;32min\u001b[0m \u001b[0mrange\u001b[0m\u001b[0;34m(\u001b[0m\u001b[0mnClasses\u001b[0m\u001b[0;34m)\u001b[0m\u001b[0;34m]\u001b[0m\u001b[0;34m\u001b[0m\u001b[0;34m\u001b[0m\u001b[0m\n\u001b[0;32m----> 2\u001b[0;31m \u001b[0mprint\u001b[0m\u001b[0;34m(\u001b[0m\u001b[0mclassification_report\u001b[0m\u001b[0;34m(\u001b[0m\u001b[0mtest_Y\u001b[0m\u001b[0;34m,\u001b[0m \u001b[0mpredicted_classes\u001b[0m\u001b[0;34m,\u001b[0m \u001b[0mtarget_names\u001b[0m\u001b[0;34m=\u001b[0m\u001b[0mtarget_names\u001b[0m\u001b[0;34m)\u001b[0m\u001b[0;34m)\u001b[0m\u001b[0;34m\u001b[0m\u001b[0;34m\u001b[0m\u001b[0m\n\u001b[0m",
            "\u001b[0;32m/usr/local/lib/python3.7/dist-packages/sklearn/metrics/_classification.py\u001b[0m in \u001b[0;36mclassification_report\u001b[0;34m(y_true, y_pred, labels, target_names, sample_weight, digits, output_dict, zero_division)\u001b[0m\n\u001b[1;32m   1969\u001b[0m     \"\"\"\n\u001b[1;32m   1970\u001b[0m \u001b[0;34m\u001b[0m\u001b[0m\n\u001b[0;32m-> 1971\u001b[0;31m     \u001b[0my_type\u001b[0m\u001b[0;34m,\u001b[0m \u001b[0my_true\u001b[0m\u001b[0;34m,\u001b[0m \u001b[0my_pred\u001b[0m \u001b[0;34m=\u001b[0m \u001b[0m_check_targets\u001b[0m\u001b[0;34m(\u001b[0m\u001b[0my_true\u001b[0m\u001b[0;34m,\u001b[0m \u001b[0my_pred\u001b[0m\u001b[0;34m)\u001b[0m\u001b[0;34m\u001b[0m\u001b[0;34m\u001b[0m\u001b[0m\n\u001b[0m\u001b[1;32m   1972\u001b[0m \u001b[0;34m\u001b[0m\u001b[0m\n\u001b[1;32m   1973\u001b[0m     \u001b[0mlabels_given\u001b[0m \u001b[0;34m=\u001b[0m \u001b[0;32mTrue\u001b[0m\u001b[0;34m\u001b[0m\u001b[0;34m\u001b[0m\u001b[0m\n",
            "\u001b[0;32m/usr/local/lib/python3.7/dist-packages/sklearn/metrics/_classification.py\u001b[0m in \u001b[0;36m_check_targets\u001b[0;34m(y_true, y_pred)\u001b[0m\n\u001b[1;32m     78\u001b[0m     \u001b[0my_pred\u001b[0m \u001b[0;34m:\u001b[0m \u001b[0marray\u001b[0m \u001b[0;32mor\u001b[0m \u001b[0mindicator\u001b[0m \u001b[0mmatrix\u001b[0m\u001b[0;34m\u001b[0m\u001b[0;34m\u001b[0m\u001b[0m\n\u001b[1;32m     79\u001b[0m     \"\"\"\n\u001b[0;32m---> 80\u001b[0;31m     \u001b[0mcheck_consistent_length\u001b[0m\u001b[0;34m(\u001b[0m\u001b[0my_true\u001b[0m\u001b[0;34m,\u001b[0m \u001b[0my_pred\u001b[0m\u001b[0;34m)\u001b[0m\u001b[0;34m\u001b[0m\u001b[0;34m\u001b[0m\u001b[0m\n\u001b[0m\u001b[1;32m     81\u001b[0m     \u001b[0mtype_true\u001b[0m \u001b[0;34m=\u001b[0m \u001b[0mtype_of_target\u001b[0m\u001b[0;34m(\u001b[0m\u001b[0my_true\u001b[0m\u001b[0;34m)\u001b[0m\u001b[0;34m\u001b[0m\u001b[0;34m\u001b[0m\u001b[0m\n\u001b[1;32m     82\u001b[0m     \u001b[0mtype_pred\u001b[0m \u001b[0;34m=\u001b[0m \u001b[0mtype_of_target\u001b[0m\u001b[0;34m(\u001b[0m\u001b[0my_pred\u001b[0m\u001b[0;34m)\u001b[0m\u001b[0;34m\u001b[0m\u001b[0;34m\u001b[0m\u001b[0m\n",
            "\u001b[0;32m/usr/local/lib/python3.7/dist-packages/sklearn/utils/validation.py\u001b[0m in \u001b[0;36mcheck_consistent_length\u001b[0;34m(*arrays)\u001b[0m\n\u001b[1;32m    210\u001b[0m     \u001b[0;32mif\u001b[0m \u001b[0mlen\u001b[0m\u001b[0;34m(\u001b[0m\u001b[0muniques\u001b[0m\u001b[0;34m)\u001b[0m \u001b[0;34m>\u001b[0m \u001b[0;36m1\u001b[0m\u001b[0;34m:\u001b[0m\u001b[0;34m\u001b[0m\u001b[0;34m\u001b[0m\u001b[0m\n\u001b[1;32m    211\u001b[0m         raise ValueError(\"Found input variables with inconsistent numbers of\"\n\u001b[0;32m--> 212\u001b[0;31m                          \" samples: %r\" % [int(l) for l in lengths])\n\u001b[0m\u001b[1;32m    213\u001b[0m \u001b[0;34m\u001b[0m\u001b[0m\n\u001b[1;32m    214\u001b[0m \u001b[0;34m\u001b[0m\u001b[0m\n",
            "\u001b[0;31mValueError\u001b[0m: Found input variables with inconsistent numbers of samples: [15, 0]"
          ]
        }
      ]
    }
  ]
}